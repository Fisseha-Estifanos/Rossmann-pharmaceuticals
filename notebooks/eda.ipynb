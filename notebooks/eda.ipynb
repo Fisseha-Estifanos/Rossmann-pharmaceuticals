{
 "cells": [
  {
   "cell_type": "code",
   "execution_count": 1,
   "metadata": {},
   "outputs": [],
   "source": [
    "# imports\n",
    "import io\n",
    "import os\n",
    "import sys\n",
    "import dvc.api\n",
    "import mlflow\n",
    "import pandas as pd\n",
    "import warnings\n",
    "warnings.filterwarnings('ignore')"
   ]
  },
  {
   "cell_type": "code",
   "execution_count": 2,
   "metadata": {},
   "outputs": [
    {
     "name": "stdout",
     "output_type": "stream",
     "text": [
      "--> <Logger dataCleaner (WARNING)>\n",
      "logger <Logger dataCleaner (DEBUG)> created at path: ../logs/cleaner_root.log\n",
      "Data cleaner in action\n",
      "--> <Logger dataVisualizer (WARNING)>\n",
      "logger <Logger dataVisualizer (DEBUG)> created at path: ../logs/visualizer_root.log\n",
      "Data visualizer in action\n"
     ]
    }
   ],
   "source": [
    "# adding scripts\n",
    "sys.path.append('.')\n",
    "sys.path.append('..')\n",
    "sys.path.insert(1, '../scripts/')\n",
    "import defaults as defs\n",
    "import dataCleaner as dc\n",
    "import dataVisualizer as dv\n",
    "\n",
    "cleaner = dc.dataCleaner('exploratory data analysis notebook')\n",
    "visualizer = dv.dataVisualizer('exploratory data analysis notebook')"
   ]
  },
  {
   "cell_type": "code",
   "execution_count": 3,
   "metadata": {},
   "outputs": [
    {
     "name": "stdout",
     "output_type": "stream",
     "text": [
      "test data path: C:\\Users\\f0x-tr0t\\Documents\\education\\datascience\\dvc-storage\\d5\\d6373bc6743cde41c22b4599dce90c \n",
      "train data path: C:\\Users\\f0x-tr0t\\Documents\\education\\datascience\\dvc-storage\\1f\\38ace4291877fe3b742e8b7a111377 \n",
      "store data path: C:\\Users\\f0x-tr0t\\Documents\\education\\datascience\\dvc-storage\\21\\ffe65b18f58f4b58193c968654814c \n",
      "merged data path: C:\\Users\\f0x-tr0t\\Documents\\education\\datascience\\dvc-storage\\2c\\45c8bfea2787f193cb56fe88d8df04\n"
     ]
    }
   ],
   "source": [
    "# pandas settings\n",
    "pd.set_option('display.max_columns', 30)\n",
    "\n",
    "# version of the data\n",
    "# v1 : gdrive \n",
    "# v2 : local messed up store\n",
    "# v3 : local correct store\n",
    "# v4 : local store: merged data file generated, data preparation completed\n",
    "version = 'v4'\n",
    "\n",
    "# read data sets using dvc api\n",
    "test_data_url = dvc.api.get_url(path = defs.test_local_path, \n",
    "                                repo = defs.repo, \n",
    "                                rev = version)\n",
    "\n",
    "train_data_url = dvc.api.get_url(path = defs.train_local_path, \n",
    "                                repo = defs.repo, \n",
    "                                rev = version)\n",
    "\n",
    "store_data_url = dvc.api.get_url(path = defs.store_local_path, \n",
    "                                repo = defs.repo, \n",
    "                                rev = version)\n",
    "\n",
    "full_data_url = dvc.api.get_url(path = defs.merged_local_path, \n",
    "                                repo = defs.repo, \n",
    "                                rev = version)\n",
    "print('test data path: ' + test_data_url, '\\ntrain data path: ' + train_data_url, '\\nstore data path: ' + store_data_url, '\\nmerged data path: ' + full_data_url)"
   ]
  },
  {
   "cell_type": "code",
   "execution_count": 4,
   "metadata": {},
   "outputs": [],
   "source": [
    "# reading csv files\n",
    "DateCols = ['Date']\n",
    "missing_values = [\"n/a\", \"na\", \"undefined\", '?', 'NA', 'undefined']\n",
    "\n",
    "test_data = pd.read_csv(test_data_url, na_values=missing_values, parse_dates=DateCols, low_memory=False)\n",
    "train_data = pd.read_csv(train_data_url, na_values=missing_values, parse_dates=DateCols, low_memory=False)\n",
    "full_data = pd.read_csv(full_data_url, na_values=missing_values, parse_dates=DateCols, low_memory=False)\n",
    "store_data = pd.read_csv(store_data_url, na_values=missing_values, low_memory=False)"
   ]
  },
  {
   "cell_type": "markdown",
   "metadata": {},
   "source": [
    "# Exploratory data analysis"
   ]
  },
  {
   "cell_type": "markdown",
   "metadata": {},
   "source": [
    "## Univariate analysis"
   ]
  },
  {
   "cell_type": "markdown",
   "metadata": {},
   "source": [
    "### Non-Graphical Univariate Analysis"
   ]
  },
  {
   "cell_type": "code",
   "execution_count": 9,
   "metadata": {},
   "outputs": [
    {
     "data": {
      "text/html": [
       "<div>\n",
       "<style scoped>\n",
       "    .dataframe tbody tr th:only-of-type {\n",
       "        vertical-align: middle;\n",
       "    }\n",
       "\n",
       "    .dataframe tbody tr th {\n",
       "        vertical-align: top;\n",
       "    }\n",
       "\n",
       "    .dataframe thead th {\n",
       "        text-align: right;\n",
       "    }\n",
       "</style>\n",
       "<table border=\"1\" class=\"dataframe\">\n",
       "  <thead>\n",
       "    <tr style=\"text-align: right;\">\n",
       "      <th></th>\n",
       "      <th>count</th>\n",
       "      <th>mean</th>\n",
       "      <th>std</th>\n",
       "      <th>min</th>\n",
       "      <th>25%</th>\n",
       "      <th>50%</th>\n",
       "      <th>75%</th>\n",
       "      <th>max</th>\n",
       "    </tr>\n",
       "  </thead>\n",
       "  <tbody>\n",
       "    <tr>\n",
       "      <th>Store</th>\n",
       "      <td>1017209.0</td>\n",
       "      <td>558.429727</td>\n",
       "      <td>321.908651</td>\n",
       "      <td>1.0</td>\n",
       "      <td>280.0</td>\n",
       "      <td>558.0</td>\n",
       "      <td>838.0</td>\n",
       "      <td>1115.0</td>\n",
       "    </tr>\n",
       "    <tr>\n",
       "      <th>DayOfWeek</th>\n",
       "      <td>1017209.0</td>\n",
       "      <td>3.998341</td>\n",
       "      <td>1.997391</td>\n",
       "      <td>1.0</td>\n",
       "      <td>2.0</td>\n",
       "      <td>4.0</td>\n",
       "      <td>6.0</td>\n",
       "      <td>7.0</td>\n",
       "    </tr>\n",
       "    <tr>\n",
       "      <th>Sales</th>\n",
       "      <td>1017209.0</td>\n",
       "      <td>5472.856067</td>\n",
       "      <td>3323.989208</td>\n",
       "      <td>0.0</td>\n",
       "      <td>3727.0</td>\n",
       "      <td>5744.0</td>\n",
       "      <td>7584.0</td>\n",
       "      <td>14049.0</td>\n",
       "    </tr>\n",
       "    <tr>\n",
       "      <th>Customers</th>\n",
       "      <td>1017209.0</td>\n",
       "      <td>578.349312</td>\n",
       "      <td>348.356502</td>\n",
       "      <td>0.0</td>\n",
       "      <td>405.0</td>\n",
       "      <td>609.0</td>\n",
       "      <td>794.0</td>\n",
       "      <td>1485.0</td>\n",
       "    </tr>\n",
       "    <tr>\n",
       "      <th>Open</th>\n",
       "      <td>1017209.0</td>\n",
       "      <td>0.830107</td>\n",
       "      <td>0.375539</td>\n",
       "      <td>0.0</td>\n",
       "      <td>1.0</td>\n",
       "      <td>1.0</td>\n",
       "      <td>1.0</td>\n",
       "      <td>1.0</td>\n",
       "    </tr>\n",
       "    <tr>\n",
       "      <th>Promo</th>\n",
       "      <td>1017209.0</td>\n",
       "      <td>0.381515</td>\n",
       "      <td>0.485759</td>\n",
       "      <td>0.0</td>\n",
       "      <td>0.0</td>\n",
       "      <td>0.0</td>\n",
       "      <td>1.0</td>\n",
       "      <td>1.0</td>\n",
       "    </tr>\n",
       "    <tr>\n",
       "      <th>StateHoliday</th>\n",
       "      <td>1017209.0</td>\n",
       "      <td>0.045163</td>\n",
       "      <td>0.283656</td>\n",
       "      <td>0.0</td>\n",
       "      <td>0.0</td>\n",
       "      <td>0.0</td>\n",
       "      <td>0.0</td>\n",
       "      <td>3.0</td>\n",
       "    </tr>\n",
       "    <tr>\n",
       "      <th>SchoolHoliday</th>\n",
       "      <td>1017209.0</td>\n",
       "      <td>0.178647</td>\n",
       "      <td>0.383056</td>\n",
       "      <td>0.0</td>\n",
       "      <td>0.0</td>\n",
       "      <td>0.0</td>\n",
       "      <td>0.0</td>\n",
       "      <td>1.0</td>\n",
       "    </tr>\n",
       "    <tr>\n",
       "      <th>Year</th>\n",
       "      <td>1017209.0</td>\n",
       "      <td>2013.832292</td>\n",
       "      <td>0.777396</td>\n",
       "      <td>2013.0</td>\n",
       "      <td>2013.0</td>\n",
       "      <td>2014.0</td>\n",
       "      <td>2014.0</td>\n",
       "      <td>2015.0</td>\n",
       "    </tr>\n",
       "    <tr>\n",
       "      <th>Month</th>\n",
       "      <td>1017209.0</td>\n",
       "      <td>5.846762</td>\n",
       "      <td>3.326097</td>\n",
       "      <td>1.0</td>\n",
       "      <td>3.0</td>\n",
       "      <td>6.0</td>\n",
       "      <td>8.0</td>\n",
       "      <td>12.0</td>\n",
       "    </tr>\n",
       "    <tr>\n",
       "      <th>DayOfMonth</th>\n",
       "      <td>1017209.0</td>\n",
       "      <td>15.702790</td>\n",
       "      <td>8.787638</td>\n",
       "      <td>1.0</td>\n",
       "      <td>8.0</td>\n",
       "      <td>16.0</td>\n",
       "      <td>23.0</td>\n",
       "      <td>31.0</td>\n",
       "    </tr>\n",
       "    <tr>\n",
       "      <th>WeekOfYear</th>\n",
       "      <td>1017209.0</td>\n",
       "      <td>23.615515</td>\n",
       "      <td>14.433381</td>\n",
       "      <td>1.0</td>\n",
       "      <td>11.0</td>\n",
       "      <td>22.0</td>\n",
       "      <td>35.0</td>\n",
       "      <td>52.0</td>\n",
       "    </tr>\n",
       "    <tr>\n",
       "      <th>weekday</th>\n",
       "      <td>1017209.0</td>\n",
       "      <td>0.715437</td>\n",
       "      <td>0.451206</td>\n",
       "      <td>0.0</td>\n",
       "      <td>0.0</td>\n",
       "      <td>1.0</td>\n",
       "      <td>1.0</td>\n",
       "      <td>1.0</td>\n",
       "    </tr>\n",
       "    <tr>\n",
       "      <th>StoreType</th>\n",
       "      <td>1017209.0</td>\n",
       "      <td>1.207467</td>\n",
       "      <td>1.365376</td>\n",
       "      <td>0.0</td>\n",
       "      <td>0.0</td>\n",
       "      <td>0.0</td>\n",
       "      <td>3.0</td>\n",
       "      <td>3.0</td>\n",
       "    </tr>\n",
       "    <tr>\n",
       "      <th>Assortment</th>\n",
       "      <td>1017209.0</td>\n",
       "      <td>0.935141</td>\n",
       "      <td>0.993801</td>\n",
       "      <td>0.0</td>\n",
       "      <td>0.0</td>\n",
       "      <td>0.0</td>\n",
       "      <td>2.0</td>\n",
       "      <td>2.0</td>\n",
       "    </tr>\n",
       "    <tr>\n",
       "      <th>CompetitionDistance</th>\n",
       "      <td>1017209.0</td>\n",
       "      <td>3314.418109</td>\n",
       "      <td>3603.842332</td>\n",
       "      <td>20.0</td>\n",
       "      <td>710.0</td>\n",
       "      <td>2330.0</td>\n",
       "      <td>4300.0</td>\n",
       "      <td>16180.0</td>\n",
       "    </tr>\n",
       "    <tr>\n",
       "      <th>CompetitionOpenSinceMonth</th>\n",
       "      <td>1017209.0</td>\n",
       "      <td>5.244756</td>\n",
       "      <td>3.928522</td>\n",
       "      <td>1.0</td>\n",
       "      <td>1.0</td>\n",
       "      <td>4.0</td>\n",
       "      <td>9.0</td>\n",
       "      <td>12.0</td>\n",
       "    </tr>\n",
       "    <tr>\n",
       "      <th>CompetitionOpenSinceYear</th>\n",
       "      <td>1017209.0</td>\n",
       "      <td>1974.140034</td>\n",
       "      <td>50.853233</td>\n",
       "      <td>1900.0</td>\n",
       "      <td>1900.0</td>\n",
       "      <td>2006.0</td>\n",
       "      <td>2011.0</td>\n",
       "      <td>2015.0</td>\n",
       "    </tr>\n",
       "    <tr>\n",
       "      <th>Promo2</th>\n",
       "      <td>1017209.0</td>\n",
       "      <td>0.500564</td>\n",
       "      <td>0.500000</td>\n",
       "      <td>0.0</td>\n",
       "      <td>0.0</td>\n",
       "      <td>1.0</td>\n",
       "      <td>1.0</td>\n",
       "      <td>1.0</td>\n",
       "    </tr>\n",
       "    <tr>\n",
       "      <th>Promo2SinceWeek</th>\n",
       "      <td>1017209.0</td>\n",
       "      <td>11.647665</td>\n",
       "      <td>15.323928</td>\n",
       "      <td>0.0</td>\n",
       "      <td>0.0</td>\n",
       "      <td>1.0</td>\n",
       "      <td>22.0</td>\n",
       "      <td>50.0</td>\n",
       "    </tr>\n",
       "    <tr>\n",
       "      <th>Promo2SinceYear</th>\n",
       "      <td>1017209.0</td>\n",
       "      <td>1007.010608</td>\n",
       "      <td>1005.876930</td>\n",
       "      <td>0.0</td>\n",
       "      <td>0.0</td>\n",
       "      <td>2009.0</td>\n",
       "      <td>2012.0</td>\n",
       "      <td>2015.0</td>\n",
       "    </tr>\n",
       "    <tr>\n",
       "      <th>PromoInterval</th>\n",
       "      <td>1017209.0</td>\n",
       "      <td>0.980349</td>\n",
       "      <td>1.081878</td>\n",
       "      <td>0.0</td>\n",
       "      <td>0.0</td>\n",
       "      <td>1.0</td>\n",
       "      <td>2.0</td>\n",
       "      <td>3.0</td>\n",
       "    </tr>\n",
       "    <tr>\n",
       "      <th>PromoInterval0</th>\n",
       "      <td>1017209.0</td>\n",
       "      <td>0.808776</td>\n",
       "      <td>0.981175</td>\n",
       "      <td>0.0</td>\n",
       "      <td>0.0</td>\n",
       "      <td>1.0</td>\n",
       "      <td>1.0</td>\n",
       "      <td>3.0</td>\n",
       "    </tr>\n",
       "    <tr>\n",
       "      <th>PromoInterval1</th>\n",
       "      <td>1017209.0</td>\n",
       "      <td>2.310467</td>\n",
       "      <td>2.374089</td>\n",
       "      <td>0.0</td>\n",
       "      <td>0.0</td>\n",
       "      <td>4.0</td>\n",
       "      <td>4.0</td>\n",
       "      <td>6.0</td>\n",
       "    </tr>\n",
       "    <tr>\n",
       "      <th>PromoInterval2</th>\n",
       "      <td>1017209.0</td>\n",
       "      <td>3.812159</td>\n",
       "      <td>3.848362</td>\n",
       "      <td>0.0</td>\n",
       "      <td>0.0</td>\n",
       "      <td>7.0</td>\n",
       "      <td>7.0</td>\n",
       "      <td>9.0</td>\n",
       "    </tr>\n",
       "    <tr>\n",
       "      <th>PromoInterval3</th>\n",
       "      <td>1017209.0</td>\n",
       "      <td>5.313850</td>\n",
       "      <td>5.336992</td>\n",
       "      <td>0.0</td>\n",
       "      <td>0.0</td>\n",
       "      <td>10.0</td>\n",
       "      <td>10.0</td>\n",
       "      <td>12.0</td>\n",
       "    </tr>\n",
       "  </tbody>\n",
       "</table>\n",
       "</div>"
      ],
      "text/plain": [
       "                               count         mean          std     min  \\\n",
       "Store                      1017209.0   558.429727   321.908651     1.0   \n",
       "DayOfWeek                  1017209.0     3.998341     1.997391     1.0   \n",
       "Sales                      1017209.0  5472.856067  3323.989208     0.0   \n",
       "Customers                  1017209.0   578.349312   348.356502     0.0   \n",
       "Open                       1017209.0     0.830107     0.375539     0.0   \n",
       "Promo                      1017209.0     0.381515     0.485759     0.0   \n",
       "StateHoliday               1017209.0     0.045163     0.283656     0.0   \n",
       "SchoolHoliday              1017209.0     0.178647     0.383056     0.0   \n",
       "Year                       1017209.0  2013.832292     0.777396  2013.0   \n",
       "Month                      1017209.0     5.846762     3.326097     1.0   \n",
       "DayOfMonth                 1017209.0    15.702790     8.787638     1.0   \n",
       "WeekOfYear                 1017209.0    23.615515    14.433381     1.0   \n",
       "weekday                    1017209.0     0.715437     0.451206     0.0   \n",
       "StoreType                  1017209.0     1.207467     1.365376     0.0   \n",
       "Assortment                 1017209.0     0.935141     0.993801     0.0   \n",
       "CompetitionDistance        1017209.0  3314.418109  3603.842332    20.0   \n",
       "CompetitionOpenSinceMonth  1017209.0     5.244756     3.928522     1.0   \n",
       "CompetitionOpenSinceYear   1017209.0  1974.140034    50.853233  1900.0   \n",
       "Promo2                     1017209.0     0.500564     0.500000     0.0   \n",
       "Promo2SinceWeek            1017209.0    11.647665    15.323928     0.0   \n",
       "Promo2SinceYear            1017209.0  1007.010608  1005.876930     0.0   \n",
       "PromoInterval              1017209.0     0.980349     1.081878     0.0   \n",
       "PromoInterval0             1017209.0     0.808776     0.981175     0.0   \n",
       "PromoInterval1             1017209.0     2.310467     2.374089     0.0   \n",
       "PromoInterval2             1017209.0     3.812159     3.848362     0.0   \n",
       "PromoInterval3             1017209.0     5.313850     5.336992     0.0   \n",
       "\n",
       "                              25%     50%     75%      max  \n",
       "Store                       280.0   558.0   838.0   1115.0  \n",
       "DayOfWeek                     2.0     4.0     6.0      7.0  \n",
       "Sales                      3727.0  5744.0  7584.0  14049.0  \n",
       "Customers                   405.0   609.0   794.0   1485.0  \n",
       "Open                          1.0     1.0     1.0      1.0  \n",
       "Promo                         0.0     0.0     1.0      1.0  \n",
       "StateHoliday                  0.0     0.0     0.0      3.0  \n",
       "SchoolHoliday                 0.0     0.0     0.0      1.0  \n",
       "Year                       2013.0  2014.0  2014.0   2015.0  \n",
       "Month                         3.0     6.0     8.0     12.0  \n",
       "DayOfMonth                    8.0    16.0    23.0     31.0  \n",
       "WeekOfYear                   11.0    22.0    35.0     52.0  \n",
       "weekday                       0.0     1.0     1.0      1.0  \n",
       "StoreType                     0.0     0.0     3.0      3.0  \n",
       "Assortment                    0.0     0.0     2.0      2.0  \n",
       "CompetitionDistance         710.0  2330.0  4300.0  16180.0  \n",
       "CompetitionOpenSinceMonth     1.0     4.0     9.0     12.0  \n",
       "CompetitionOpenSinceYear   1900.0  2006.0  2011.0   2015.0  \n",
       "Promo2                        0.0     1.0     1.0      1.0  \n",
       "Promo2SinceWeek               0.0     1.0    22.0     50.0  \n",
       "Promo2SinceYear               0.0  2009.0  2012.0   2015.0  \n",
       "PromoInterval                 0.0     1.0     2.0      3.0  \n",
       "PromoInterval0                0.0     1.0     1.0      3.0  \n",
       "PromoInterval1                0.0     4.0     4.0      6.0  \n",
       "PromoInterval2                0.0     7.0     7.0      9.0  \n",
       "PromoInterval3                0.0    10.0    10.0     12.0  "
      ]
     },
     "execution_count": 9,
     "metadata": {},
     "output_type": "execute_result"
    }
   ],
   "source": [
    "full_data.describe().transpose()"
   ]
  },
  {
   "cell_type": "markdown",
   "metadata": {},
   "source": [
    "### Graphical Univariate Analysis"
   ]
  },
  {
   "cell_type": "markdown",
   "metadata": {},
   "source": [
    "#### Check for distribution in both training and test sets - are the promotions distributed similarly between these two groups?"
   ]
  },
  {
   "cell_type": "code",
   "execution_count": 11,
   "metadata": {},
   "outputs": [
    {
     "data": {
      "image/png": "[encoded data removed]",
      "text/plain": [
       "<Figure size 1008x504 with 1 Axes>"
      ]
     },
     "metadata": {
      "needs_background": "light"
     },
     "output_type": "display_data"
    }
   ],
   "source": [
    "visualizer.plot_hist(train_data, 'Promo', 'blue')"
   ]
  },
  {
   "cell_type": "code",
   "execution_count": null,
   "metadata": {},
   "outputs": [],
   "source": [
    "plot_hist(test_data, 'Promo', 'purple')"
   ]
  },
  {
   "cell_type": "markdown",
   "metadata": {},
   "source": [
    "#### Store type"
   ]
  },
  {
   "cell_type": "code",
   "execution_count": null,
   "metadata": {},
   "outputs": [],
   "source": [
    "# unique value counts\n",
    "counts_df = store_data['StoreType'].value_counts()\n",
    "counts_df"
   ]
  },
  {
   "cell_type": "code",
   "execution_count": null,
   "metadata": {},
   "outputs": [],
   "source": [
    "plotly_plot_pie(store_data, 'StoreType')"
   ]
  },
  {
   "cell_type": "markdown",
   "metadata": {},
   "source": [
    "#### Assortment"
   ]
  },
  {
   "cell_type": "code",
   "execution_count": null,
   "metadata": {},
   "outputs": [],
   "source": [
    "# unique value counts\n",
    "counts_df = store_data['Assortment'].value_counts()\n",
    "counts_df"
   ]
  },
  {
   "cell_type": "code",
   "execution_count": null,
   "metadata": {},
   "outputs": [],
   "source": [
    "plotly_plot_pie(store_data, 'Assortment')"
   ]
  },
  {
   "cell_type": "code",
   "execution_count": null,
   "metadata": {},
   "outputs": [],
   "source": [
    "plotly_plot_hist(store_data, 'CompetitionDistance')"
   ]
  },
  {
   "cell_type": "markdown",
   "metadata": {},
   "source": [
    "#### Day of week"
   ]
  },
  {
   "cell_type": "code",
   "execution_count": null,
   "metadata": {},
   "outputs": [],
   "source": [
    "plot_count(train_data, 'DayOfWeek')"
   ]
  },
  {
   "cell_type": "markdown",
   "metadata": {},
   "source": [
    "#### Sales"
   ]
  },
  {
   "cell_type": "code",
   "execution_count": 12,
   "metadata": {},
   "outputs": [
    {
     "ename": "NameError",
     "evalue": "name 'plot_hist' is not defined",
     "output_type": "error",
     "traceback": [
      "\u001b[1;31m---------------------------------------------------------------------------\u001b[0m",
      "\u001b[1;31mNameError\u001b[0m                                 Traceback (most recent call last)",
      "\u001b[1;32mc:\\Users\\f0x-tr0t\\Documents\\education\\10_Academy\\VI\\week_III\\Rossmann-pharmaceuticals\\notebooks\\eda.ipynb Cell 22\u001b[0m in \u001b[0;36m<cell line: 1>\u001b[1;34m()\u001b[0m\n\u001b[1;32m----> <a href='vscode-notebook-cell:/c%3A/Users/f0x-tr0t/Documents/education/10_Academy/VI/week_III/Rossmann-pharmaceuticals/notebooks/eda.ipynb#X53sZmlsZQ%3D%3D?line=0'>1</a>\u001b[0m plot_hist(train_data, \u001b[39m'\u001b[39m\u001b[39mSales\u001b[39m\u001b[39m'\u001b[39m, \u001b[39m'\u001b[39m\u001b[39mgreen\u001b[39m\u001b[39m'\u001b[39m)\n",
      "\u001b[1;31mNameError\u001b[0m: name 'plot_hist' is not defined"
     ]
    }
   ],
   "source": [
    "plot_hist(train_data, 'Sales', 'green')"
   ]
  },
  {
   "cell_type": "markdown",
   "metadata": {},
   "source": [
    "#### Customers"
   ]
  },
  {
   "cell_type": "code",
   "execution_count": null,
   "metadata": {},
   "outputs": [],
   "source": [
    "plot_hist(train_data, 'Customers', 'blue')"
   ]
  },
  {
   "cell_type": "markdown",
   "metadata": {},
   "source": [
    "#### 0pen"
   ]
  },
  {
   "cell_type": "code",
   "execution_count": null,
   "metadata": {},
   "outputs": [],
   "source": [
    "plot_count(train_data, 'Open')"
   ]
  },
  {
   "cell_type": "markdown",
   "metadata": {},
   "source": [
    "#### Promo"
   ]
  },
  {
   "cell_type": "code",
   "execution_count": null,
   "metadata": {},
   "outputs": [],
   "source": [
    "plot_count(train_data, 'Promo')"
   ]
  },
  {
   "cell_type": "code",
   "execution_count": null,
   "metadata": {},
   "outputs": [],
   "source": [
    "# unique value counts\n",
    "counts_df = store_data['Promo2'].value_counts()\n",
    "counts_df"
   ]
  },
  {
   "cell_type": "code",
   "execution_count": null,
   "metadata": {},
   "outputs": [],
   "source": [
    "plot_count(store_data, 'Promo2')"
   ]
  },
  {
   "cell_type": "markdown",
   "metadata": {},
   "source": [
    "#### Holidays"
   ]
  },
  {
   "cell_type": "code",
   "execution_count": null,
   "metadata": {},
   "outputs": [],
   "source": [
    "# unique value counts\n",
    "counts_df = train_data['StateHoliday'].value_counts()\n",
    "counts_df"
   ]
  },
  {
   "cell_type": "code",
   "execution_count": null,
   "metadata": {},
   "outputs": [],
   "source": [
    "plotly_plot_pie(train_data, 'StateHoliday')"
   ]
  },
  {
   "cell_type": "code",
   "execution_count": null,
   "metadata": {},
   "outputs": [],
   "source": [
    "# unique value counts\n",
    "counts_df = train_data['SchoolHoliday'].value_counts()\n",
    "counts_df"
   ]
  },
  {
   "cell_type": "code",
   "execution_count": null,
   "metadata": {},
   "outputs": [],
   "source": [
    "plotly_plot_pie(train_data, 'SchoolHoliday')"
   ]
  },
  {
   "cell_type": "markdown",
   "metadata": {},
   "source": [
    "## Bivariate analysis"
   ]
  },
  {
   "cell_type": "markdown",
   "metadata": {},
   "source": [
    "### Graphical analysis"
   ]
  },
  {
   "cell_type": "markdown",
   "metadata": {},
   "source": [
    "#### Check & compare sales behavior before, during and after holidays"
   ]
  },
  {
   "cell_type": "code",
   "execution_count": null,
   "metadata": {},
   "outputs": [],
   "source": [
    "state_holiday_list = train_data['StateHoliday'].values.tolist()\n",
    "sales_timing_list = modify_holiday_list(state_holiday_list)\n",
    "timing_added_df = train_data.loc[:,['Sales','Customers']]\n",
    "timing_added_df['HolidayTiming'] = sales_timing_list\n",
    "grouped_timing = timing_added_df.groupby('HolidayTiming').agg(\n",
    "    {'Sales': 'mean', 'Customers': 'mean'})\n",
    "grouped_timing = grouped_timing.iloc[:3, :]\n",
    "\n",
    "plt.figure(figsize=(10,5))\n",
    "X_axis = np.arange(len(grouped_timing.index))\n",
    "plt.bar(X_axis - 0.2, grouped_timing['Sales'], 0.4, label='Sales')\n",
    "plt.bar(X_axis + 0.2, grouped_timing['Customers'], 0.4, label='Customers')\n",
    "\n",
    "plt.xticks(X_axis, grouped_timing.index)\n",
    "plt.xlabel(\"Holiday Timing\")\n",
    "plt.ylabel(\"Mean Value\")\n",
    "plt.title(\"Sales and Customers Based on Holiday Timing\")\n",
    "plt.legend()"
   ]
  },
  {
   "cell_type": "markdown",
   "metadata": {},
   "source": [
    "#### Find out any seasonal (Christmas, Easter etc) purchase behaviors"
   ]
  },
  {
   "cell_type": "code",
   "execution_count": null,
   "metadata": {},
   "outputs": [],
   "source": [
    "average_sales = train_data.groupby('StateHoliday')[\"Sales\"].mean()\n",
    "ax1 = average_sales.plot(legend=True,marker='o',title=\"Average Sales\")\n",
    "ax1.set_xticks(range(len(average_sales)))\n",
    "ax1.set_xticklabels(average_sales.index.tolist())"
   ]
  },
  {
   "cell_type": "code",
   "execution_count": null,
   "metadata": {},
   "outputs": [],
   "source": [
    "# aggregated df from sales mean and customers mean\n",
    "seasonal = train_data.groupby('StateHoliday').agg({'Sales':'mean', 'Customers':'mean'})\n",
    "seasonal = seasonal.iloc[2:,:]\n",
    "seasonal.head()"
   ]
  },
  {
   "cell_type": "code",
   "execution_count": null,
   "metadata": {},
   "outputs": [],
   "source": [
    "#seasonal.index = ['Public Holiday','Easter Holiday','Christmas'] # check this out,this line must not have been commented\n",
    "X_axis = np.arange(len(seasonal.index))\n",
    "plt.figure(figsize=(10, 5))\n",
    "plt1 = plt.bar(X_axis - 0.2, seasonal['Sales'], 0.4, label='Sales')"
   ]
  },
  {
   "cell_type": "code",
   "execution_count": null,
   "metadata": {},
   "outputs": [],
   "source": [
    "# seasonal index\n",
    "# seasonal.index = ['Public Holiday','Easter Holiday','Christmas'] # check this out,this line must not have been commented\n",
    "X_axis = np.arange(len(seasonal.index))\n",
    "plt.figure(figsize=(10, 5))\n",
    "plt1 = plt.bar(X_axis - 0.2, seasonal['Sales'], 0.4, label='Sales')\n",
    "for p in plt1.patches:\n",
    "    plt.annotate('{:.2f}'.format(p.get_height()), (p.get_x()\n",
    "                * 1.005, p.get_height() * 1.005))\n",
    "plt2 = plt.bar(X_axis + 0.2, seasonal['Customers'], 0.4, label='Customers')\n",
    "for p in plt2.patches:\n",
    "    plt.annotate('{:.2f}'.format(p.get_height()), (p.get_x()\n",
    "                                       * 1.005, p.get_height() * 1.005))     \n",
    "plt.xticks(X_axis, seasonal.index)\n",
    "plt.xlabel(\"Season\")\n",
    "plt.ylabel(\"Amount\")\n",
    "plt.title(\"Sales and Customers During Holiday Seasons\")\n",
    "plt.show()"
   ]
  },
  {
   "cell_type": "markdown",
   "metadata": {},
   "source": [
    "#### State holidays and sales"
   ]
  },
  {
   "cell_type": "code",
   "execution_count": null,
   "metadata": {},
   "outputs": [],
   "source": [
    "fig, (axis1,axis2) = plt.subplots(1,2,figsize=(12,4))\n",
    "\n",
    "# holidays and no_holidays\n",
    "sns.barplot(x='StateHoliday', y='Sales', data = train_data, ax = axis1).set_title('Comparison of sales during StateHolidays and ordinary days')\n",
    "\n",
    "# holidays only\n",
    "mask = (train_data[\"StateHoliday\"] != \"0\") & (train_data[\"Sales\"] > 0)\n",
    "sns.barplot(x='StateHoliday', y='Sales', data=train_data[mask], ax=axis2).set_title('Sales during State holidays')\n",
    "plt.show()"
   ]
  },
  {
   "cell_type": "markdown",
   "metadata": {},
   "source": [
    "#### School Holidays with Sales and Customers"
   ]
  },
  {
   "cell_type": "code",
   "execution_count": null,
   "metadata": {},
   "outputs": [],
   "source": [
    "fig, (axis1,axis2) = plt.subplots(1,2,figsize=(12,4))\n",
    "\n",
    "sns.barplot(x='SchoolHoliday', y='Sales', data=train_data, ax=axis1).set_title('Comparison of sales vs StateHoliday')\n",
    "sns.barplot(x='SchoolHoliday', y='Customers', data=train_data, ax=axis2).set_title('Comparison of customers vs StateHoliday')\n",
    "plt.show()"
   ]
  },
  {
   "cell_type": "markdown",
   "metadata": {},
   "source": [
    "#### Correlation between sales and number of customers?"
   ]
  },
  {
   "cell_type": "code",
   "execution_count": null,
   "metadata": {},
   "outputs": [],
   "source": [
    "sales_customer_rln = train_data.loc[:,['Sales','Customers']]\n",
    "sales_customer_corr = sales_customer_rln.corr()\n",
    "sales_customer_corr.head()"
   ]
  },
  {
   "cell_type": "code",
   "execution_count": null,
   "metadata": {},
   "outputs": [],
   "source": [
    "plot_heatmap_from_correlation(sales_customer_corr, 'Correlation b/n sales and customers')"
   ]
  },
  {
   "cell_type": "markdown",
   "metadata": {},
   "source": [
    "#### How does promo affect sales? Are the promos attracting more customers? How does it affect already existing customers?"
   ]
  },
  {
   "cell_type": "code",
   "execution_count": null,
   "metadata": {},
   "outputs": [],
   "source": [
    "sales_promo_rln = full_data.loc[:,['Sales','Promo']]\n",
    "sales_promo_corr = sales_promo_rln.corr()\n",
    "sales_promo_corr.head()"
   ]
  },
  {
   "cell_type": "code",
   "execution_count": null,
   "metadata": {},
   "outputs": [],
   "source": [
    "plot_heatmap_from_correlation(sales_customer_corr, 'Correlation b/n sales and Promotions')"
   ]
  },
  {
   "cell_type": "markdown",
   "metadata": {},
   "source": [
    "#### Store type with sales and customers"
   ]
  },
  {
   "cell_type": "code",
   "execution_count": null,
   "metadata": {},
   "outputs": [],
   "source": [
    "fig, (axis1,axis2) = plt.subplots(1,2,figsize=(15,4))\n",
    "sns.barplot(x='StoreType', y='Sales', data = full_data, ax=axis1, palette = 'Set3', order = [0, 1, 2, 3]).set_title('Sales across different StoreType')\n",
    "sns.barplot(x='StoreType', y='Customers', data = full_data, ax=axis2, palette = 'Set3', order = [0, 1, 2, 3]).set_title('No. of customers across different StoreType')\n",
    "plt.show()"
   ]
  },
  {
   "cell_type": "markdown",
   "metadata": {},
   "source": [
    "#### Assortment with Sales and customers"
   ]
  },
  {
   "cell_type": "code",
   "execution_count": null,
   "metadata": {},
   "outputs": [],
   "source": [
    "fig, (axis1,axis2) = plt.subplots(1,2,figsize=(15,4))\n",
    "\n",
    "sns.barplot(x='Assortment', y='Sales', data = full_data, palette = 'husl', order = [0, 1, 2], ax=axis1).set_title('Sales across different assortment types')\n",
    "sns.barplot(x='Assortment', y='Customers', data = full_data, palette = 'husl', order = [0, 1, 2], ax=axis2).set_title('Customers across different assortment types')\n",
    "plt.show()"
   ]
  },
  {
   "cell_type": "markdown",
   "metadata": {},
   "source": [
    "#### Day of week with sales and customers"
   ]
  },
  {
   "cell_type": "code",
   "execution_count": null,
   "metadata": {},
   "outputs": [],
   "source": [
    "fig, (axis1,axis2) = plt.subplots(1,2,figsize=(15,4))\n",
    "sns.barplot(x='DayOfWeek', y='Sales', data=train_data, palette = 'RdBu_r', ax=axis1).set_title('Sales across different days of the week ')\n",
    "sns.barplot(x='DayOfWeek', y='Customers', data=train_data, palette = 'RdBu_r', ax=axis2).set_title('Customers across different days of the week ')\n",
    "plt.show()"
   ]
  },
  {
   "cell_type": "markdown",
   "metadata": {},
   "source": [
    "#### Promo with sales and customers"
   ]
  },
  {
   "cell_type": "code",
   "execution_count": null,
   "metadata": {},
   "outputs": [],
   "source": [
    "fig, (axis1,axis2) = plt.subplots(1,2,figsize=(15,4))\n",
    "\n",
    "sns.barplot(x='Promo', y='Sales', data=train_data, palette = 'Set1', ax=axis1).set_title('Sales across different Promo')\n",
    "sns.barplot(x='Promo', y='Customers', data=train_data, ax=axis2,  palette = 'Set1').set_title('Customers across different Promo')\n",
    "plt.show()"
   ]
  },
  {
   "cell_type": "markdown",
   "metadata": {},
   "source": [
    "#### Promo2 with Sales and Customers"
   ]
  },
  {
   "cell_type": "code",
   "execution_count": null,
   "metadata": {},
   "outputs": [],
   "source": [
    "flatui = [ \"#34495e\", \"#2ecc71\"]\n",
    "fig, (axis1,axis2) = plt.subplots(1,2,figsize=(15,4))\n",
    "\n",
    "sns.barplot(x='Promo2', y='Sales', data=full_data, ax=axis1, palette = flatui).set_title('Sales across different Promo2')\n",
    "sns.barplot(x='Promo2', y='Customers', data=full_data, ax=axis2, palette = flatui).set_title('Customers across different Promo2')\n",
    "plt.show()"
   ]
  },
  {
   "cell_type": "markdown",
   "metadata": {},
   "source": [
    "#### Promo interval with sales and customers"
   ]
  },
  {
   "cell_type": "code",
   "execution_count": null,
   "metadata": {},
   "outputs": [],
   "source": [
    "flatui = [\"#9b59b6\", \"#3498db\", \"#95a5a6\", \"#e74c3c\", \"#34495e\", \"#2ecc71\"]\n",
    "fig, (axis1,axis2) = plt.subplots(1,2,figsize=(15,4))\n",
    "\n",
    "# values with promo2 only\n",
    "mask = (full_data[\"Promo2\"] != 0)\n",
    "\n",
    "sns.barplot(x='PromoInterval', y='Sales', data=full_data[mask], ax=axis1, palette = flatui).set_title('Sales across different promo intervals')\n",
    "sns.barplot(x='PromoInterval', y='Customers', data=full_data[mask], ax=axis2, palette = flatui).set_title('Customers across different promo intervals')\n",
    "plt.show()"
   ]
  },
  {
   "cell_type": "markdown",
   "metadata": {},
   "source": [
    "#### Could the promos be deployed in more effective ways? Which stores should promos be deployed in?"
   ]
  },
  {
   "cell_type": "code",
   "execution_count": null,
   "metadata": {},
   "outputs": [],
   "source": [
    "plot_scatter(full_data, 'Customers','Sales', 'scatter for month and sales', 'Promo', 'StoreType')"
   ]
  },
  {
   "cell_type": "markdown",
   "metadata": {},
   "source": [
    "#### Month and Sales"
   ]
  },
  {
   "cell_type": "code",
   "execution_count": null,
   "metadata": {},
   "outputs": [],
   "source": [
    "sns.barplot(x='Month', y='Sales', data=full_data)\n",
    "plt.show()"
   ]
  },
  {
   "cell_type": "code",
   "execution_count": null,
   "metadata": {},
   "outputs": [],
   "source": [
    "plot_scatter(full_data, 'Sales','Customers', 'scatter for month and customers', 'Promo', 'DayOfWeek')"
   ]
  },
  {
   "cell_type": "code",
   "execution_count": null,
   "metadata": {},
   "outputs": [],
   "source": [
    "a = full_data.groupby('Store').agg({\n",
    "    'CompetitionDistance': 'mean',\n",
    "    'Sales': 'mean',\n",
    "    'Customers': 'mean'\n",
    "})\n",
    "plt.subplots(figsize = (8, 7))\n",
    "sns.scatterplot(x='CompetitionDistance', y='Sales', data=a)\n",
    "plt.show()"
   ]
  },
  {
   "cell_type": "markdown",
   "metadata": {},
   "source": [
    "#### Trends of customer behavior during store open and closing times"
   ]
  },
  {
   "cell_type": "code",
   "execution_count": null,
   "metadata": {},
   "outputs": [],
   "source": [
    "customer_behavior = train_data.groupby('Open').agg({'Customers':'mean','Sales':'mean'})\n",
    "customer_behavior.head()"
   ]
  },
  {
   "cell_type": "code",
   "execution_count": null,
   "metadata": {},
   "outputs": [],
   "source": [
    "plot_scatter(full_data, 'DayOfWeek','Sales', 'scatter for month and sales', 'Open', 'StoreType')"
   ]
  },
  {
   "cell_type": "markdown",
   "metadata": {},
   "source": [
    "#### How does the distance to the next competitor affect sales?\n",
    "#### What if the store and its competitors all happen to be in city centres, does the distance matter in that case?"
   ]
  },
  {
   "cell_type": "code",
   "execution_count": null,
   "metadata": {},
   "outputs": [],
   "source": [
    "sns.set(style=\"whitegrid\")\n",
    "g=sns.relplot(x=\"CompetitionDistance\", y=\"Sales\", hue=\"Promo\", data=full_data)\n",
    "g.fig.set_size_inches(15,15)"
   ]
  },
  {
   "cell_type": "markdown",
   "metadata": {},
   "source": [
    "#### How does the opening or reopening of new competitors affect stores?\n",
    "#### Check for stores with NA as competitor distance but later on has values for competitor distance"
   ]
  },
  {
   "cell_type": "code",
   "execution_count": null,
   "metadata": {},
   "outputs": [],
   "source": [
    "open_close_df = full_data.loc[:, ['Store', 'Sales', 'Customers', 'Month', 'Year',\n",
    "                                 \"CompetitionDistance\", \"CompetitionOpenSinceMonth\", \"CompetitionOpenSinceYear\"]]\n",
    "store_got_new_comp = open_close_df.loc[open_close_df['CompetitionOpenSinceMonth'].notnull()]\n",
    "\n",
    "change_columns_type_to(store_got_new_comp, ['CompetitionOpenSinceMonth', 'CompetitionOpenSinceYear'], 'int64')\n",
    "optimize_df(store_got_new_comp)\n",
    "store_got_new_comp.shape"
   ]
  },
  {
   "cell_type": "code",
   "execution_count": null,
   "metadata": {},
   "outputs": [],
   "source": [
    "comp_store_opened_year = store_got_new_comp[store_got_new_comp['Year'] <= store_got_new_comp['CompetitionOpenSinceYear']]\n",
    "\n",
    "comp_store_opened_final = comp_store_opened_year[comp_store_opened_year['Month'] <= comp_store_opened_year['CompetitionOpenSinceMonth']]\n",
    "\n",
    "comp_store_closed_year = store_got_new_comp[~(store_got_new_comp['Year'] <= store_got_new_comp['CompetitionOpenSinceYear'])]\n",
    "\n",
    "comp_store_closed_final = comp_store_closed_year.append(comp_store_opened_year[~(comp_store_opened_year['Month']\n",
    "                                                                                 <= comp_store_opened_year['CompetitionOpenSinceMonth'])])\n",
    "\n",
    "grouping_stores_after_store_open = comp_store_opened_final.groupby('Store').agg({'Sales':'median','Customers':'median'})\n",
    "grouping_stores_before_store_open = comp_store_closed_final.groupby(\n",
    "    'Store').agg({'Sales': 'median', 'Customers': 'median'})"
   ]
  },
  {
   "cell_type": "code",
   "execution_count": null,
   "metadata": {},
   "outputs": [],
   "source": [
    "# TODO: check this out, this whole cell must not have been commented, make it run\n",
    "\"\"\"\n",
    "change_sales_customer_df = grouping_stores_after_store_open.copy(deep=True)\n",
    "change_sales_customer_df['Change in Sales'] = change_sales_customer_df['After Sales'] - change_sales_customer_df['Before Sales']\n",
    "change_sales_customer_df['Change in Customers'] = change_sales_customer_df['After Customers'] - change_sales_customer_df['Before Customers']\n",
    "change_sales_customer_df.drop(['After Sales', 'Before Sales', 'After Customers', 'Before Customers'], axis=1, inplace=True)\n",
    "change_sales_customer_df.head()\n",
    "\"\"\""
   ]
  },
  {
   "cell_type": "markdown",
   "metadata": {},
   "source": [
    "### Correlation Analysis"
   ]
  },
  {
   "cell_type": "code",
   "execution_count": null,
   "metadata": {},
   "outputs": [],
   "source": [
    "f_most_correlated = full_data.corr().nlargest(8,'Sales')['Sales'].index\n",
    "f_correlation = full_data[f_most_correlated].corr()\n",
    "\n",
    "# Generate a mask for the upper triangle\n",
    "f_mask = np.zeros_like(f_correlation)\n",
    "f_mask[np.triu_indices_from(f_mask)] = True\n",
    "with sns.axes_style(\"white\"):\n",
    "    f_fig, f_ax = plt.subplots(figsize=(10, 8))\n",
    "    f_ax = sns.heatmap(f_correlation, mask=f_mask, vmin=0, vmax=1, square=True,\n",
    "                        annot=True, annot_kws={\"size\": 10}, cmap=\"BuPu\")\n",
    "plt.title('Top 8 features with highest correlation with sales')\n",
    "plt.show()"
   ]
  },
  {
   "cell_type": "code",
   "execution_count": null,
   "metadata": {},
   "outputs": [],
   "source": [
    "# Compute the correlation matrix \n",
    "corr_all = full_data.drop('Open', axis = 1).corr()\n",
    "# upper triangle\n",
    "mask = np.zeros_like(corr_all, dtype = np.bool)\n",
    "mask[np.triu_indices_from(mask)] = True\n",
    "f, ax = plt.subplots(figsize = (11, 9))\n",
    "sns.heatmap(corr_all, mask = mask, square = True, linewidths = .5, ax = ax, cmap = \"BuPu\")      \n",
    "plt.show()"
   ]
  },
  {
   "cell_type": "markdown",
   "metadata": {},
   "source": [
    "### Filtering Data and Answering Business Questions"
   ]
  },
  {
   "cell_type": "markdown",
   "metadata": {},
   "source": [
    "#### Distribution of promotion in the training and test datasets"
   ]
  },
  {
   "cell_type": "code",
   "execution_count": null,
   "metadata": {},
   "outputs": [],
   "source": [
    "fig, ax = plt.subplots(1, 2, sharex=True, figsize=(12, 4))\n",
    "ax[0].set_title(\"Train\")\n",
    "sns.countplot(x='Promo', data=train_data, ax=ax[0])\n",
    "ax[1].set_title(\"Test\")\n",
    "sns.countplot(x='Promo', data=test_data, ax=ax[1])\n",
    "fig.subplots_adjust(wspace=0.5)\n",
    "fig.show()"
   ]
  },
  {
   "cell_type": "code",
   "execution_count": null,
   "metadata": {},
   "outputs": [],
   "source": [
    "store_type_a = full_data[full_data.StoreType == 0]\n",
    "store_type_b = full_data[full_data.StoreType == 1]\n",
    "store_type_c = full_data[full_data.StoreType == 2]\n",
    "store_type_d = full_data[full_data.StoreType == 3]"
   ]
  },
  {
   "cell_type": "code",
   "execution_count": null,
   "metadata": {},
   "outputs": [],
   "source": [
    "plt.subplots(figsize = (10, 9))\n",
    "sns.lineplot(x = store_type_a.Month, y = store_type_a.Sales, label=\"Store Type A\")\n",
    "sns.lineplot(x = store_type_b.Month, y = store_type_b.Sales, label=\"Store Type B\")\n",
    "sns.lineplot(x = store_type_c.Month, y = store_type_c.Sales, label=\"Store Type C\")\n",
    "sns.lineplot(x = store_type_d.Month, y = store_type_d.Sales, label=\"Store Type D\")\n",
    "plt.show()"
   ]
  },
  {
   "cell_type": "markdown",
   "metadata": {},
   "source": [
    "#### Monthly sales per StoreType and Promo"
   ]
  },
  {
   "cell_type": "code",
   "execution_count": null,
   "metadata": {},
   "outputs": [],
   "source": [
    "sns.factorplot(data = full_data, x = 'Month', y = \"Sales\",\n",
    "               col = 'StoreType', # per store type in cols\n",
    "               palette = 'plasma',\n",
    "               hue = 'Promo',\n",
    "               col_order = [0, 1, 2, 3],\n",
    "               title = 'Promotion impact on sales per store types')\n",
    "plt.show()"
   ]
  },
  {
   "cell_type": "markdown",
   "metadata": {},
   "source": [
    "#### Monthly customers per StoreType and Promo"
   ]
  },
  {
   "cell_type": "code",
   "execution_count": null,
   "metadata": {},
   "outputs": [],
   "source": [
    "sns.factorplot(data = full_data, x = 'Month', y = \"Customers\",\n",
    "               col = 'StoreType', # per store type in cols\n",
    "               palette = 'plasma',\n",
    "               hue = 'Promo',\n",
    "               col_order = [0, 1, 2, 3],\n",
    "               title = 'Promotion impact on sales per store types')\n",
    "plt.show()"
   ]
  },
  {
   "cell_type": "markdown",
   "metadata": {},
   "source": [
    "#### Monthly sales per Assortment and Promo"
   ]
  },
  {
   "cell_type": "code",
   "execution_count": null,
   "metadata": {},
   "outputs": [],
   "source": [
    "sns.factorplot(data = full_data, x = 'Month', y = 'Sales', col = 'Assortment', hue = 'Promo', col_order = [0, 1, 2])\n",
    "plt.show()"
   ]
  },
  {
   "cell_type": "markdown",
   "metadata": {},
   "source": [
    "#### Monthly customers per Assortment and Promo"
   ]
  },
  {
   "cell_type": "code",
   "execution_count": null,
   "metadata": {},
   "outputs": [],
   "source": [
    "sns.factorplot(data = full_data, x = 'Month', y = 'Customers', col = 'Assortment', hue = 'Promo', col_order = [0, 1, 2])\n",
    "plt.show()"
   ]
  },
  {
   "cell_type": "markdown",
   "metadata": {},
   "source": [
    "#### Sales of stores open per DayOfWeek and StoreType"
   ]
  },
  {
   "cell_type": "code",
   "execution_count": null,
   "metadata": {},
   "outputs": [],
   "source": [
    "# stores that are open only\n",
    "mask = (full_data[\"Open\"] != 0)\n",
    "\n",
    "sns.factorplot(data = full_data[mask], x = 'DayOfWeek', y = 'Sales', col = 'StoreType', col_order = [0, 1, 2, 3])\n",
    "plt.show()"
   ]
  },
  {
   "cell_type": "markdown",
   "metadata": {},
   "source": [
    "#### Customers of stores open per DayOfWeek and Assortment"
   ]
  },
  {
   "cell_type": "code",
   "execution_count": null,
   "metadata": {},
   "outputs": [],
   "source": [
    "# stores that are open only\n",
    "mask = (full_data[\"Open\"] != 0)\n",
    "\n",
    "sns.factorplot(data = full_data[mask], x = 'DayOfWeek', y = 'Customers', col = 'Assortment', col_order = [0, 1, 2])\n",
    "plt.show()"
   ]
  },
  {
   "cell_type": "markdown",
   "metadata": {},
   "source": [
    "### Conclusions of EDA"
   ]
  },
  {
   "cell_type": "markdown",
   "metadata": {},
   "source": [
    "* The most selling and crowded store type is b.\n",
    "\n",
    "* The most selling and crowded assortment is b.\n",
    "\n",
    "* Sales is highly correlated to customers.\n",
    "\n",
    "* For all stores, promotion leads to increase in Sales and Customers. But promotions have low impact on store type b and assortment b when comparing to the other store types and assortments. So promotions should be applied more in the other store types and assortments.\n",
    "\n",
    "* Store type b is the most opened store type on all weekdays and has its highest sales on sundays than the other days.\n",
    "\n",
    "* Assortment a and b are the most opened assortments on all weekdays and have their highest sales on sundays than the other days. The number of customers increase dramatically on sundays for assortment a while it is similar with other week days for assortment b."
   ]
  }
 ],
 "metadata": {
  "kernelspec": {
   "display_name": "Python 3.10.5 64-bit",
   "language": "python",
   "name": "python3"
  },
  "language_info": {
   "codemirror_mode": {
    "name": "ipython",
    "version": 3
   },
   "file_extension": ".py",
   "mimetype": "text/x-python",
   "name": "python",
   "nbconvert_exporter": "python",
   "pygments_lexer": "ipython3",
   "version": "3.10.5"
  },
  "orig_nbformat": 4,
  "vscode": {
   "interpreter": {
    "hash": "a265634967a27dd555e8346f2355ee703e655fd7f0a0d20c168527cd0a3d5707"
   }
  }
 },
 "nbformat": 4,
 "nbformat_minor": 2
}
