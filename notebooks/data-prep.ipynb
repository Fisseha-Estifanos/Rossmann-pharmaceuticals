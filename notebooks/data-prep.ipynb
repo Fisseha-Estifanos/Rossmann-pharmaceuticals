{
 "cells": [
  {
   "cell_type": "code",
   "execution_count": 1,
   "metadata": {},
   "outputs": [],
   "source": [
    "# imports\n",
    "import pandas as pd\n",
    "import os\n",
    "import sys\n",
    "import dvc.api\n",
    "import mlflow"
   ]
  },
  {
   "cell_type": "code",
   "execution_count": 2,
   "metadata": {},
   "outputs": [
    {
     "name": "stdout",
     "output_type": "stream",
     "text": [
      "--> <Logger dataCleaner (WARNING)>\n",
      "logger <Logger dataCleaner (INFO)> created at path: ../logs/cleaner_root.log\n",
      "Data cleaner in action\n",
      "--> <Logger dataVisualizer (WARNING)>\n",
      "logger <Logger dataVisualizer (INFO)> created at path: ../logs/visualizer_root.log\n",
      "Data visualizer in action\n"
     ]
    }
   ],
   "source": [
    "# adding scripts\n",
    "sys.path.append('.')\n",
    "sys.path.append('..')\n",
    "sys.path.insert(1, '../scripts/')\n",
    "import defaults as defs\n",
    "import dataCleaner as dc\n",
    "import dataVisualizer as dv\n",
    "\n",
    "cleaner = dc.dataCleaner('data preparation notebook')\n",
    "visualizer = dv.dataVisualizer('data preparation notebook')"
   ]
  },
  {
   "cell_type": "code",
   "execution_count": 8,
   "metadata": {},
   "outputs": [
    {
     "ename": "AssertionError",
     "evalue": "",
     "output_type": "error",
     "traceback": [
      "\u001b[1;31m---------------------------------------------------------------------------\u001b[0m",
      "\u001b[1;31mAssertionError\u001b[0m                            Traceback (most recent call last)",
      "\u001b[1;32mc:\\Users\\f0x-tr0t\\Documents\\education\\10_Academy\\VI\\week_III\\Rossmann-pharmaceuticals\\notebooks\\data-prep.ipynb Cell 3\u001b[0m in \u001b[0;36m<cell line: 8>\u001b[1;34m()\u001b[0m\n\u001b[0;32m      <a href='vscode-notebook-cell:/c%3A/Users/f0x-tr0t/Documents/education/10_Academy/VI/week_III/Rossmann-pharmaceuticals/notebooks/data-prep.ipynb#W2sZmlsZQ%3D%3D?line=3'>4</a>\u001b[0m version \u001b[39m=\u001b[39m \u001b[39m'\u001b[39m\u001b[39mv1\u001b[39m\u001b[39m'\u001b[39m\n\u001b[0;32m      <a href='vscode-notebook-cell:/c%3A/Users/f0x-tr0t/Documents/education/10_Academy/VI/week_III/Rossmann-pharmaceuticals/notebooks/data-prep.ipynb#W2sZmlsZQ%3D%3D?line=5'>6</a>\u001b[0m \u001b[39m# read data sets\u001b[39;00m\n\u001b[0;32m      <a href='vscode-notebook-cell:/c%3A/Users/f0x-tr0t/Documents/education/10_Academy/VI/week_III/Rossmann-pharmaceuticals/notebooks/data-prep.ipynb#W2sZmlsZQ%3D%3D?line=6'>7</a>\u001b[0m \u001b[39m# data path using dvc api\u001b[39;00m\n\u001b[1;32m----> <a href='vscode-notebook-cell:/c%3A/Users/f0x-tr0t/Documents/education/10_Academy/VI/week_III/Rossmann-pharmaceuticals/notebooks/data-prep.ipynb#W2sZmlsZQ%3D%3D?line=7'>8</a>\u001b[0m test_data_url \u001b[39m=\u001b[39m dvc\u001b[39m.\u001b[39;49mapi\u001b[39m.\u001b[39;49mget_url(path \u001b[39m=\u001b[39;49m defs\u001b[39m.\u001b[39;49mtest_path, \n\u001b[0;32m      <a href='vscode-notebook-cell:/c%3A/Users/f0x-tr0t/Documents/education/10_Academy/VI/week_III/Rossmann-pharmaceuticals/notebooks/data-prep.ipynb#W2sZmlsZQ%3D%3D?line=8'>9</a>\u001b[0m                                 \u001b[39m# repo = defs.repo, \u001b[39;49;00m\n\u001b[0;32m     <a href='vscode-notebook-cell:/c%3A/Users/f0x-tr0t/Documents/education/10_Academy/VI/week_III/Rossmann-pharmaceuticals/notebooks/data-prep.ipynb#W2sZmlsZQ%3D%3D?line=9'>10</a>\u001b[0m                                 rev \u001b[39m=\u001b[39;49m version)\n\u001b[0;32m     <a href='vscode-notebook-cell:/c%3A/Users/f0x-tr0t/Documents/education/10_Academy/VI/week_III/Rossmann-pharmaceuticals/notebooks/data-prep.ipynb#W2sZmlsZQ%3D%3D?line=11'>12</a>\u001b[0m train_data_url \u001b[39m=\u001b[39m dvc\u001b[39m.\u001b[39mapi\u001b[39m.\u001b[39mget_url(path \u001b[39m=\u001b[39m defs\u001b[39m.\u001b[39mtrain_path, \n\u001b[0;32m     <a href='vscode-notebook-cell:/c%3A/Users/f0x-tr0t/Documents/education/10_Academy/VI/week_III/Rossmann-pharmaceuticals/notebooks/data-prep.ipynb#W2sZmlsZQ%3D%3D?line=12'>13</a>\u001b[0m                                 \u001b[39m# repo = defs.repo, \u001b[39;00m\n\u001b[0;32m     <a href='vscode-notebook-cell:/c%3A/Users/f0x-tr0t/Documents/education/10_Academy/VI/week_III/Rossmann-pharmaceuticals/notebooks/data-prep.ipynb#W2sZmlsZQ%3D%3D?line=13'>14</a>\u001b[0m                                 rev \u001b[39m=\u001b[39m version)\n\u001b[0;32m     <a href='vscode-notebook-cell:/c%3A/Users/f0x-tr0t/Documents/education/10_Academy/VI/week_III/Rossmann-pharmaceuticals/notebooks/data-prep.ipynb#W2sZmlsZQ%3D%3D?line=15'>16</a>\u001b[0m store_data_url \u001b[39m=\u001b[39m dvc\u001b[39m.\u001b[39mapi\u001b[39m.\u001b[39mget_url(path \u001b[39m=\u001b[39m defs\u001b[39m.\u001b[39mstore_path, \n\u001b[0;32m     <a href='vscode-notebook-cell:/c%3A/Users/f0x-tr0t/Documents/education/10_Academy/VI/week_III/Rossmann-pharmaceuticals/notebooks/data-prep.ipynb#W2sZmlsZQ%3D%3D?line=16'>17</a>\u001b[0m                                 \u001b[39m# repo = defs.repo, \u001b[39;00m\n\u001b[0;32m     <a href='vscode-notebook-cell:/c%3A/Users/f0x-tr0t/Documents/education/10_Academy/VI/week_III/Rossmann-pharmaceuticals/notebooks/data-prep.ipynb#W2sZmlsZQ%3D%3D?line=17'>18</a>\u001b[0m                                 rev \u001b[39m=\u001b[39m version)\n",
      "File \u001b[1;32mc:\\Users\\f0x-tr0t\\AppData\\Local\\Programs\\Python\\Python310\\lib\\site-packages\\dvc\\api.py:24\u001b[0m, in \u001b[0;36mget_url\u001b[1;34m(path, repo, rev, remote)\u001b[0m\n\u001b[0;32m     22\u001b[0m fs_path \u001b[39m=\u001b[39m _repo\u001b[39m.\u001b[39mdvcfs\u001b[39m.\u001b[39mfrom_os_path(path)\n\u001b[0;32m     23\u001b[0m \u001b[39mwith\u001b[39;00m reraise(\u001b[39mFileNotFoundError\u001b[39;00m, PathMissingError(path, repo)):\n\u001b[1;32m---> 24\u001b[0m     info \u001b[39m=\u001b[39m _repo\u001b[39m.\u001b[39;49mdvcfs\u001b[39m.\u001b[39;49minfo(fs_path)\n\u001b[0;32m     26\u001b[0m dvc_info \u001b[39m=\u001b[39m info\u001b[39m.\u001b[39mget(\u001b[39m\"\u001b[39m\u001b[39mdvc_info\u001b[39m\u001b[39m\"\u001b[39m)\n\u001b[0;32m     27\u001b[0m \u001b[39mif\u001b[39;00m \u001b[39mnot\u001b[39;00m dvc_info:\n",
      "File \u001b[1;32mc:\\Users\\f0x-tr0t\\AppData\\Local\\Programs\\Python\\Python310\\lib\\site-packages\\dvc_objects\\fs\\base.py:340\u001b[0m, in \u001b[0;36mFileSystem.info\u001b[1;34m(self, path)\u001b[0m\n\u001b[0;32m    339\u001b[0m \u001b[39mdef\u001b[39;00m \u001b[39minfo\u001b[39m(\u001b[39mself\u001b[39m, path: AnyFSPath) \u001b[39m-\u001b[39m\u001b[39m>\u001b[39m \u001b[39m\"\u001b[39m\u001b[39mEntry\u001b[39m\u001b[39m\"\u001b[39m:\n\u001b[1;32m--> 340\u001b[0m     \u001b[39mreturn\u001b[39;00m \u001b[39mself\u001b[39;49m\u001b[39m.\u001b[39;49mfs\u001b[39m.\u001b[39;49minfo(path)\n",
      "File \u001b[1;32mc:\\Users\\f0x-tr0t\\AppData\\Local\\Programs\\Python\\Python310\\lib\\site-packages\\dvc\\fs\\dvc.py:402\u001b[0m, in \u001b[0;36m_DvcFileSystem.info\u001b[1;34m(self, path, **kwargs)\u001b[0m\n\u001b[0;32m    400\u001b[0m \u001b[39mif\u001b[39;00m dvc_fs:\n\u001b[0;32m    401\u001b[0m     \u001b[39mtry\u001b[39;00m:\n\u001b[1;32m--> 402\u001b[0m         dvc_info \u001b[39m=\u001b[39m dvc_fs\u001b[39m.\u001b[39;49minfo(dvc_path)\n\u001b[0;32m    403\u001b[0m     \u001b[39mexcept\u001b[39;00m \u001b[39mFileNotFoundError\u001b[39;00m:\n\u001b[0;32m    404\u001b[0m         \u001b[39mpass\u001b[39;00m\n",
      "File \u001b[1;32mc:\\Users\\f0x-tr0t\\AppData\\Local\\Programs\\Python\\Python310\\lib\\site-packages\\dvc_objects\\fs\\base.py:340\u001b[0m, in \u001b[0;36mFileSystem.info\u001b[1;34m(self, path)\u001b[0m\n\u001b[0;32m    339\u001b[0m \u001b[39mdef\u001b[39;00m \u001b[39minfo\u001b[39m(\u001b[39mself\u001b[39m, path: AnyFSPath) \u001b[39m-\u001b[39m\u001b[39m>\u001b[39m \u001b[39m\"\u001b[39m\u001b[39mEntry\u001b[39m\u001b[39m\"\u001b[39m:\n\u001b[1;32m--> 340\u001b[0m     \u001b[39mreturn\u001b[39;00m \u001b[39mself\u001b[39;49m\u001b[39m.\u001b[39;49mfs\u001b[39m.\u001b[39;49minfo(path)\n",
      "File \u001b[1;32mc:\\Users\\f0x-tr0t\\AppData\\Local\\Programs\\Python\\Python310\\lib\\site-packages\\dvc\\fs\\data.py:125\u001b[0m, in \u001b[0;36m_DataFileSystem.info\u001b[1;34m(self, path, **kwargs)\u001b[0m\n\u001b[0;32m    122\u001b[0m key \u001b[39m=\u001b[39m \u001b[39mself\u001b[39m\u001b[39m.\u001b[39m_get_key(path)\n\u001b[0;32m    124\u001b[0m \u001b[39mtry\u001b[39;00m:\n\u001b[1;32m--> 125\u001b[0m     outs \u001b[39m=\u001b[39m \u001b[39mlist\u001b[39m(\u001b[39mself\u001b[39;49m\u001b[39m.\u001b[39;49mrepo\u001b[39m.\u001b[39;49mindex\u001b[39m.\u001b[39;49mtree\u001b[39m.\u001b[39miteritems(key))\n\u001b[0;32m    126\u001b[0m \u001b[39mexcept\u001b[39;00m \u001b[39mKeyError\u001b[39;00m \u001b[39mas\u001b[39;00m exc:\n\u001b[0;32m    127\u001b[0m     \u001b[39mraise\u001b[39;00m \u001b[39mFileNotFoundError\u001b[39;00m \u001b[39mfrom\u001b[39;00m \u001b[39mexc\u001b[39;00m\n",
      "File \u001b[1;32mc:\\Users\\f0x-tr0t\\AppData\\Local\\Programs\\Python\\Python310\\lib\\site-packages\\funcy\\objects.py:28\u001b[0m, in \u001b[0;36mcached_property.__get__\u001b[1;34m(self, instance, type)\u001b[0m\n\u001b[0;32m     26\u001b[0m \u001b[39mif\u001b[39;00m instance \u001b[39mis\u001b[39;00m \u001b[39mNone\u001b[39;00m:\n\u001b[0;32m     27\u001b[0m     \u001b[39mreturn\u001b[39;00m \u001b[39mself\u001b[39m\n\u001b[1;32m---> 28\u001b[0m res \u001b[39m=\u001b[39m instance\u001b[39m.\u001b[39m\u001b[39m__dict__\u001b[39m[\u001b[39mself\u001b[39m\u001b[39m.\u001b[39mfget\u001b[39m.\u001b[39m\u001b[39m__name__\u001b[39m] \u001b[39m=\u001b[39m \u001b[39mself\u001b[39;49m\u001b[39m.\u001b[39;49mfget(instance)\n\u001b[0;32m     29\u001b[0m \u001b[39mreturn\u001b[39;00m res\n",
      "File \u001b[1;32mc:\\Users\\f0x-tr0t\\AppData\\Local\\Programs\\Python\\Python310\\lib\\site-packages\\dvc\\repo\\index.py:192\u001b[0m, in \u001b[0;36mIndex.tree\u001b[1;34m(self)\u001b[0m\n\u001b[0;32m    190\u001b[0m out\u001b[39m.\u001b[39mmeta\u001b[39m.\u001b[39modb \u001b[39m=\u001b[39m out\u001b[39m.\u001b[39modb\n\u001b[0;32m    191\u001b[0m \u001b[39mtry\u001b[39;00m:\n\u001b[1;32m--> 192\u001b[0m     out\u001b[39m.\u001b[39mmeta\u001b[39m.\u001b[39mremote \u001b[39m=\u001b[39m \u001b[39mself\u001b[39;49m\u001b[39m.\u001b[39;49mrepo\u001b[39m.\u001b[39;49mcloud\u001b[39m.\u001b[39;49mget_remote_odb(out\u001b[39m.\u001b[39;49mremote)\n\u001b[0;32m    193\u001b[0m \u001b[39mexcept\u001b[39;00m NoRemoteError:\n\u001b[0;32m    194\u001b[0m     out\u001b[39m.\u001b[39mmeta\u001b[39m.\u001b[39mremote \u001b[39m=\u001b[39m \u001b[39mNone\u001b[39;00m\n",
      "File \u001b[1;32mc:\\Users\\f0x-tr0t\\AppData\\Local\\Programs\\Python\\Python310\\lib\\site-packages\\dvc\\data_cloud.py:41\u001b[0m, in \u001b[0;36mDataCloud.get_remote_odb\u001b[1;34m(self, name, command)\u001b[0m\n\u001b[0;32m     38\u001b[0m     name \u001b[39m=\u001b[39m \u001b[39mself\u001b[39m\u001b[39m.\u001b[39mrepo\u001b[39m.\u001b[39mconfig[\u001b[39m\"\u001b[39m\u001b[39mcore\u001b[39m\u001b[39m\"\u001b[39m]\u001b[39m.\u001b[39mget(\u001b[39m\"\u001b[39m\u001b[39mremote\u001b[39m\u001b[39m\"\u001b[39m)\n\u001b[0;32m     40\u001b[0m \u001b[39mif\u001b[39;00m name:\n\u001b[1;32m---> 41\u001b[0m     \u001b[39mreturn\u001b[39;00m \u001b[39mself\u001b[39;49m\u001b[39m.\u001b[39;49m_init_odb(name)\n\u001b[0;32m     43\u001b[0m \u001b[39mif\u001b[39;00m \u001b[39mbool\u001b[39m(\u001b[39mself\u001b[39m\u001b[39m.\u001b[39mrepo\u001b[39m.\u001b[39mconfig[\u001b[39m\"\u001b[39m\u001b[39mremote\u001b[39m\u001b[39m\"\u001b[39m]):\n\u001b[0;32m     44\u001b[0m     error_msg \u001b[39m=\u001b[39m (\n\u001b[0;32m     45\u001b[0m         \u001b[39m\"\u001b[39m\u001b[39mno remote specified. Setup default remote with\u001b[39m\u001b[39m\\n\u001b[39;00m\u001b[39m\"\u001b[39m\n\u001b[0;32m     46\u001b[0m         \u001b[39m\"\u001b[39m\u001b[39m    dvc remote default <remote name>\u001b[39m\u001b[39m\\n\u001b[39;00m\u001b[39m\"\u001b[39m\n\u001b[0;32m     47\u001b[0m         \u001b[39m\"\u001b[39m\u001b[39mor use:\u001b[39m\u001b[39m\\n\u001b[39;00m\u001b[39m\"\u001b[39m\n\u001b[0;32m     48\u001b[0m         \u001b[39m\"\u001b[39m\u001b[39m    dvc \u001b[39m\u001b[39m{}\u001b[39;00m\u001b[39m -r <remote name>\u001b[39m\u001b[39m\"\u001b[39m\u001b[39m.\u001b[39mformat(command)\n\u001b[0;32m     49\u001b[0m     )\n",
      "File \u001b[1;32mc:\\Users\\f0x-tr0t\\AppData\\Local\\Programs\\Python\\Python310\\lib\\site-packages\\dvc\\data_cloud.py:64\u001b[0m, in \u001b[0;36mDataCloud._init_odb\u001b[1;34m(self, name)\u001b[0m\n\u001b[0;32m     62\u001b[0m \u001b[39mcls\u001b[39m, config, fs_path \u001b[39m=\u001b[39m get_cloud_fs(\u001b[39mself\u001b[39m\u001b[39m.\u001b[39mrepo, name\u001b[39m=\u001b[39mname)\n\u001b[0;32m     63\u001b[0m config[\u001b[39m\"\u001b[39m\u001b[39mtmp_dir\u001b[39m\u001b[39m\"\u001b[39m] \u001b[39m=\u001b[39m \u001b[39mself\u001b[39m\u001b[39m.\u001b[39mrepo\u001b[39m.\u001b[39mindex_db_dir\n\u001b[1;32m---> 64\u001b[0m \u001b[39mreturn\u001b[39;00m get_odb(\u001b[39mcls\u001b[39m(\u001b[39m*\u001b[39m\u001b[39m*\u001b[39mconfig), fs_path, \u001b[39m*\u001b[39m\u001b[39m*\u001b[39mconfig)\n",
      "File \u001b[1;32mc:\\Users\\f0x-tr0t\\AppData\\Local\\Programs\\Python\\Python310\\lib\\site-packages\\dvc_objects\\fs\\implementations\\gdrive.py:70\u001b[0m, in \u001b[0;36mGDriveFileSystem.__init__\u001b[1;34m(self, **config)\u001b[0m\n\u001b[0;32m     67\u001b[0m \u001b[39mself\u001b[39m\u001b[39m.\u001b[39m_validate_config()\n\u001b[0;32m     69\u001b[0m tmp_dir \u001b[39m=\u001b[39m config[\u001b[39m\"\u001b[39m\u001b[39mgdrive_credentials_tmp_dir\u001b[39m\u001b[39m\"\u001b[39m]\n\u001b[1;32m---> 70\u001b[0m \u001b[39massert\u001b[39;00m tmp_dir\n\u001b[0;32m     72\u001b[0m \u001b[39mself\u001b[39m\u001b[39m.\u001b[39m_gdrive_service_credentials_path \u001b[39m=\u001b[39m tmp_fname(\n\u001b[0;32m     73\u001b[0m     os\u001b[39m.\u001b[39mpath\u001b[39m.\u001b[39mjoin(tmp_dir, \u001b[39m\"\u001b[39m\u001b[39m\"\u001b[39m)\n\u001b[0;32m     74\u001b[0m )\n\u001b[0;32m     75\u001b[0m \u001b[39mself\u001b[39m\u001b[39m.\u001b[39m_gdrive_user_credentials_path \u001b[39m=\u001b[39m (\n\u001b[0;32m     76\u001b[0m     tmp_fname(os\u001b[39m.\u001b[39mpath\u001b[39m.\u001b[39mjoin(tmp_dir, \u001b[39m\"\u001b[39m\u001b[39m\"\u001b[39m))\n\u001b[0;32m     77\u001b[0m     \u001b[39mif\u001b[39;00m os\u001b[39m.\u001b[39mgetenv(GDriveFileSystem\u001b[39m.\u001b[39mGDRIVE_CREDENTIALS_DATA)\n\u001b[1;32m   (...)\u001b[0m\n\u001b[0;32m     81\u001b[0m     )\n\u001b[0;32m     82\u001b[0m )\n",
      "\u001b[1;31mAssertionError\u001b[0m: "
     ]
    }
   ],
   "source": [
    "# pandas settings\n",
    "pd.set_option('display.max_columns', 50)\n",
    "\n",
    "version = 'v1'\n",
    "\n",
    "# read data sets\n",
    "# data path using dvc api\n",
    "test_data_url = dvc.api.get_url(path = defs.test_path, \n",
    "                                # repo = defs.repo, \n",
    "                                rev = version)\n",
    "\n",
    "train_data_url = dvc.api.get_url(path = defs.train_path, \n",
    "                                # repo = defs.repo, \n",
    "                                rev = version)\n",
    "\n",
    "store_data_url = dvc.api.get_url(path = defs.store_path, \n",
    "                                # repo = defs.repo, \n",
    "                                rev = version)\n"
   ]
  }
 ],
 "metadata": {
  "kernelspec": {
   "display_name": "Python 3.10.5 64-bit",
   "language": "python",
   "name": "python3"
  },
  "language_info": {
   "codemirror_mode": {
    "name": "ipython",
    "version": 3
   },
   "file_extension": ".py",
   "mimetype": "text/x-python",
   "name": "python",
   "nbconvert_exporter": "python",
   "pygments_lexer": "ipython3",
   "version": "3.10.5"
  },
  "orig_nbformat": 4,
  "vscode": {
   "interpreter": {
    "hash": "a265634967a27dd555e8346f2355ee703e655fd7f0a0d20c168527cd0a3d5707"
   }
  }
 },
 "nbformat": 4,
 "nbformat_minor": 2
}
