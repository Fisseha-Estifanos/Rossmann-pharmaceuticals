{
 "cells": [
  {
   "cell_type": "code",
   "execution_count": 1,
   "metadata": {},
   "outputs": [],
   "source": [
    "# import necessary packages\n",
    "import os\n",
    "import sys\n",
    "import dvc.api\n",
    "import pandas as pd\n",
    "import seaborn as sns\n",
    "import matplotlib.pyplot as plt\n",
    "import mlflow\n",
    "import warnings\n",
    "warnings.filterwarnings('ignore')"
   ]
  },
  {
   "cell_type": "code",
   "execution_count": 2,
   "metadata": {},
   "outputs": [
    {
     "name": "stdout",
     "output_type": "stream",
     "text": [
      "--> <Logger dataCleaner (WARNING)>\n",
      "logger <Logger dataCleaner (INFO)> created at path: ../logs/cleaner_root.log\n",
      "Data cleaner in action\n",
      "--> <Logger dataVisualizer (WARNING)>\n",
      "logger <Logger dataVisualizer (INFO)> created at path: ../logs/visualizer_root.log\n",
      "Data visualizer in action\n"
     ]
    }
   ],
   "source": [
    "# set up paths and helper scripts\n",
    "sys.path.append('.')\n",
    "sys.path.insert(1, '../scripts/')\n",
    "\n",
    "import defaults as defs\n",
    "import dataCleaner as dc\n",
    "import dataVisualizer as dv\n",
    "\n",
    "# setup helper scripts\n",
    "cleaner = dc.dataCleaner('data preparation notebook')\n",
    "visualizer = dv.dataVisualizer('data preparation notebook')"
   ]
  },
  {
   "cell_type": "code",
   "execution_count": 4,
   "metadata": {},
   "outputs": [
    {
     "ename": "GitError",
     "evalue": "Repository not found at c:/Users/f0x-tr0t/Documents/education/10_Academy/VI/week_III/Rossmann-pharmaceuticals/.git/",
     "output_type": "error",
     "traceback": [
      "\u001b[1;31m---------------------------------------------------------------------------\u001b[0m",
      "\u001b[1;31mGitError\u001b[0m                                  Traceback (most recent call last)",
      "\u001b[1;32mc:\\Users\\f0x-tr0t\\Documents\\education\\10_Academy\\VI\\week_III\\Rossmann-pharmaceuticals\\notebooks\\data-preparation.ipynb Cell 3\u001b[0m in \u001b[0;36m<cell line: 8>\u001b[1;34m()\u001b[0m\n\u001b[0;32m      <a href='vscode-notebook-cell:/c%3A/Users/f0x-tr0t/Documents/education/10_Academy/VI/week_III/Rossmann-pharmaceuticals/notebooks/data-preparation.ipynb#W2sZmlsZQ%3D%3D?line=4'>5</a>\u001b[0m pd\u001b[39m.\u001b[39mset_option(\u001b[39m'\u001b[39m\u001b[39mdisplay.max_columns\u001b[39m\u001b[39m'\u001b[39m, \u001b[39m50\u001b[39m)\n\u001b[0;32m      <a href='vscode-notebook-cell:/c%3A/Users/f0x-tr0t/Documents/education/10_Academy/VI/week_III/Rossmann-pharmaceuticals/notebooks/data-preparation.ipynb#W2sZmlsZQ%3D%3D?line=6'>7</a>\u001b[0m \u001b[39m# data path using dvc api\u001b[39;00m\n\u001b[1;32m----> <a href='vscode-notebook-cell:/c%3A/Users/f0x-tr0t/Documents/education/10_Academy/VI/week_III/Rossmann-pharmaceuticals/notebooks/data-preparation.ipynb#W2sZmlsZQ%3D%3D?line=7'>8</a>\u001b[0m store_data_url \u001b[39m=\u001b[39m dvc\u001b[39m.\u001b[39;49mapi\u001b[39m.\u001b[39;49mget_url(path \u001b[39m=\u001b[39;49m defs\u001b[39m.\u001b[39;49mstore_path, \n\u001b[0;32m      <a href='vscode-notebook-cell:/c%3A/Users/f0x-tr0t/Documents/education/10_Academy/VI/week_III/Rossmann-pharmaceuticals/notebooks/data-preparation.ipynb#W2sZmlsZQ%3D%3D?line=8'>9</a>\u001b[0m                            repo \u001b[39m=\u001b[39;49m defs\u001b[39m.\u001b[39;49mrepo, \n\u001b[0;32m     <a href='vscode-notebook-cell:/c%3A/Users/f0x-tr0t/Documents/education/10_Academy/VI/week_III/Rossmann-pharmaceuticals/notebooks/data-preparation.ipynb#W2sZmlsZQ%3D%3D?line=9'>10</a>\u001b[0m                            rev \u001b[39m=\u001b[39;49m version)\n\u001b[0;32m     <a href='vscode-notebook-cell:/c%3A/Users/f0x-tr0t/Documents/education/10_Academy/VI/week_III/Rossmann-pharmaceuticals/notebooks/data-preparation.ipynb#W2sZmlsZQ%3D%3D?line=11'>12</a>\u001b[0m \u001b[39m# reading the csv file\u001b[39;00m\n\u001b[0;32m     <a href='vscode-notebook-cell:/c%3A/Users/f0x-tr0t/Documents/education/10_Academy/VI/week_III/Rossmann-pharmaceuticals/notebooks/data-preparation.ipynb#W2sZmlsZQ%3D%3D?line=12'>13</a>\u001b[0m missing_values \u001b[39m=\u001b[39m [\u001b[39m\"\u001b[39m\u001b[39mn/a\u001b[39m\u001b[39m\"\u001b[39m, \u001b[39m\"\u001b[39m\u001b[39mna\u001b[39m\u001b[39m\"\u001b[39m, \u001b[39m\"\u001b[39m\u001b[39mundefined\u001b[39m\u001b[39m\"\u001b[39m, \u001b[39m'\u001b[39m\u001b[39m?\u001b[39m\u001b[39m'\u001b[39m, \u001b[39m'\u001b[39m\u001b[39mNA\u001b[39m\u001b[39m'\u001b[39m, \u001b[39m'\u001b[39m\u001b[39mundefined\u001b[39m\u001b[39m'\u001b[39m]\n",
      "File \u001b[1;32mc:\\Users\\f0x-tr0t\\AppData\\Local\\Programs\\Python\\Python310\\lib\\site-packages\\dvc\\api.py:21\u001b[0m, in \u001b[0;36mget_url\u001b[1;34m(path, repo, rev, remote)\u001b[0m\n\u001b[0;32m     10\u001b[0m \u001b[39mdef\u001b[39;00m \u001b[39mget_url\u001b[39m(path, repo\u001b[39m=\u001b[39m\u001b[39mNone\u001b[39;00m, rev\u001b[39m=\u001b[39m\u001b[39mNone\u001b[39;00m, remote\u001b[39m=\u001b[39m\u001b[39mNone\u001b[39;00m):\n\u001b[0;32m     11\u001b[0m     \u001b[39m\"\"\"\u001b[39;00m\n\u001b[0;32m     12\u001b[0m \u001b[39m    Returns the URL to the storage location of a data file or directory tracked\u001b[39;00m\n\u001b[0;32m     13\u001b[0m \u001b[39m    in a DVC repo. For Git repos, HEAD is used unless a rev argument is\u001b[39;00m\n\u001b[1;32m   (...)\u001b[0m\n\u001b[0;32m     19\u001b[0m \u001b[39m    directory in the remote storage.\u001b[39;00m\n\u001b[0;32m     20\u001b[0m \u001b[39m    \"\"\"\u001b[39;00m\n\u001b[1;32m---> 21\u001b[0m     \u001b[39mwith\u001b[39;00m Repo\u001b[39m.\u001b[39;49mopen(repo, rev\u001b[39m=\u001b[39;49mrev, subrepos\u001b[39m=\u001b[39;49m\u001b[39mTrue\u001b[39;49;00m, uninitialized\u001b[39m=\u001b[39;49m\u001b[39mTrue\u001b[39;49;00m) \u001b[39mas\u001b[39;00m _repo:\n\u001b[0;32m     22\u001b[0m         fs_path \u001b[39m=\u001b[39m _repo\u001b[39m.\u001b[39mdvcfs\u001b[39m.\u001b[39mfrom_os_path(path)\n\u001b[0;32m     23\u001b[0m         \u001b[39mwith\u001b[39;00m reraise(\u001b[39mFileNotFoundError\u001b[39;00m, PathMissingError(path, repo)):\n",
      "File \u001b[1;32mc:\\Users\\f0x-tr0t\\AppData\\Local\\Programs\\Python\\Python310\\lib\\site-packages\\dvc\\repo\\__init__.py:245\u001b[0m, in \u001b[0;36mRepo.open\u001b[1;34m(url, *args, **kwargs)\u001b[0m\n\u001b[0;32m    243\u001b[0m \u001b[39mif\u001b[39;00m os\u001b[39m.\u001b[39mpath\u001b[39m.\u001b[39mexists(url):\n\u001b[0;32m    244\u001b[0m     \u001b[39mtry\u001b[39;00m:\n\u001b[1;32m--> 245\u001b[0m         \u001b[39mreturn\u001b[39;00m Repo(url, \u001b[39m*\u001b[39margs, \u001b[39m*\u001b[39m\u001b[39m*\u001b[39mkwargs)\n\u001b[0;32m    246\u001b[0m     \u001b[39mexcept\u001b[39;00m NotDvcRepoError:\n\u001b[0;32m    247\u001b[0m         \u001b[39mpass\u001b[39;00m  \u001b[39m# fallthrough to external_repo\u001b[39;00m\n",
      "File \u001b[1;32mc:\\Users\\f0x-tr0t\\AppData\\Local\\Programs\\Python\\Python310\\lib\\site-packages\\dvc\\repo\\__init__.py:180\u001b[0m, in \u001b[0;36mRepo.__init__\u001b[1;34m(self, root_dir, fs, rev, subrepos, uninitialized, config, url, repo_factory, scm)\u001b[0m\n\u001b[0;32m    177\u001b[0m     root_dir \u001b[39m=\u001b[39m \u001b[39m\"\u001b[39m\u001b[39m/\u001b[39m\u001b[39m\"\u001b[39m\n\u001b[0;32m    178\u001b[0m     \u001b[39mself\u001b[39m\u001b[39m.\u001b[39m_fs \u001b[39m=\u001b[39m GitFileSystem(scm\u001b[39m=\u001b[39m\u001b[39mself\u001b[39m\u001b[39m.\u001b[39m_scm, rev\u001b[39m=\u001b[39mrev)\n\u001b[1;32m--> 180\u001b[0m \u001b[39mself\u001b[39m\u001b[39m.\u001b[39mroot_dir, \u001b[39mself\u001b[39m\u001b[39m.\u001b[39mdvc_dir, \u001b[39mself\u001b[39m\u001b[39m.\u001b[39mtmp_dir \u001b[39m=\u001b[39m \u001b[39mself\u001b[39;49m\u001b[39m.\u001b[39;49m_get_repo_dirs(\n\u001b[0;32m    181\u001b[0m     root_dir\u001b[39m=\u001b[39;49mroot_dir,\n\u001b[0;32m    182\u001b[0m     fs\u001b[39m=\u001b[39;49m\u001b[39mself\u001b[39;49m\u001b[39m.\u001b[39;49mfs,\n\u001b[0;32m    183\u001b[0m     uninitialized\u001b[39m=\u001b[39;49muninitialized,\n\u001b[0;32m    184\u001b[0m     scm\u001b[39m=\u001b[39;49mscm,\n\u001b[0;32m    185\u001b[0m )\n\u001b[0;32m    187\u001b[0m \u001b[39mself\u001b[39m\u001b[39m.\u001b[39mconfig \u001b[39m=\u001b[39m Config(\u001b[39mself\u001b[39m\u001b[39m.\u001b[39mdvc_dir, fs\u001b[39m=\u001b[39m\u001b[39mself\u001b[39m\u001b[39m.\u001b[39mfs, config\u001b[39m=\u001b[39mconfig)\n\u001b[0;32m    188\u001b[0m \u001b[39mself\u001b[39m\u001b[39m.\u001b[39m_uninitialized \u001b[39m=\u001b[39m uninitialized\n",
      "File \u001b[1;32mc:\\Users\\f0x-tr0t\\AppData\\Local\\Programs\\Python\\Python310\\lib\\site-packages\\dvc\\repo\\__init__.py:97\u001b[0m, in \u001b[0;36mRepo._get_repo_dirs\u001b[1;34m(self, root_dir, fs, uninitialized, scm)\u001b[0m\n\u001b[0;32m     95\u001b[0m tmp_dir \u001b[39m=\u001b[39m \u001b[39mNone\u001b[39;00m\n\u001b[0;32m     96\u001b[0m \u001b[39mtry\u001b[39;00m:\n\u001b[1;32m---> 97\u001b[0m     root_dir \u001b[39m=\u001b[39m \u001b[39mself\u001b[39;49m\u001b[39m.\u001b[39;49mfind_root(root_dir, fs)\n\u001b[0;32m     98\u001b[0m     fs \u001b[39m=\u001b[39m fs \u001b[39mor\u001b[39;00m localfs\n\u001b[0;32m     99\u001b[0m     dvc_dir \u001b[39m=\u001b[39m fs\u001b[39m.\u001b[39mpath\u001b[39m.\u001b[39mjoin(root_dir, \u001b[39mself\u001b[39m\u001b[39m.\u001b[39mDVC_DIR)\n",
      "File \u001b[1;32mc:\\Users\\f0x-tr0t\\AppData\\Local\\Programs\\Python\\Python310\\lib\\site-packages\\dvc\\repo\\__init__.py:329\u001b[0m, in \u001b[0;36mRepo.find_root\u001b[1;34m(cls, root, fs)\u001b[0m\n\u001b[0;32m    327\u001b[0m fs \u001b[39m=\u001b[39m fs \u001b[39mor\u001b[39;00m localfs\n\u001b[0;32m    328\u001b[0m root \u001b[39m=\u001b[39m root \u001b[39mor\u001b[39;00m os\u001b[39m.\u001b[39mcurdir\n\u001b[1;32m--> 329\u001b[0m root_dir \u001b[39m=\u001b[39m fs\u001b[39m.\u001b[39;49mpath\u001b[39m.\u001b[39mrealpath(root)\n\u001b[0;32m    331\u001b[0m \u001b[39mif\u001b[39;00m \u001b[39mnot\u001b[39;00m fs\u001b[39m.\u001b[39misdir(root_dir):\n\u001b[0;32m    332\u001b[0m     \u001b[39mraise\u001b[39;00m NotDvcRepoError(\u001b[39mf\u001b[39m\u001b[39m\"\u001b[39m\u001b[39mdirectory \u001b[39m\u001b[39m'\u001b[39m\u001b[39m{\u001b[39;00mroot\u001b[39m}\u001b[39;00m\u001b[39m'\u001b[39m\u001b[39m does not exist\u001b[39m\u001b[39m\"\u001b[39m)\n",
      "File \u001b[1;32mc:\\Users\\f0x-tr0t\\AppData\\Local\\Programs\\Python\\Python310\\lib\\site-packages\\funcy\\objects.py:28\u001b[0m, in \u001b[0;36mcached_property.__get__\u001b[1;34m(self, instance, type)\u001b[0m\n\u001b[0;32m     26\u001b[0m \u001b[39mif\u001b[39;00m instance \u001b[39mis\u001b[39;00m \u001b[39mNone\u001b[39;00m:\n\u001b[0;32m     27\u001b[0m     \u001b[39mreturn\u001b[39;00m \u001b[39mself\u001b[39m\n\u001b[1;32m---> 28\u001b[0m res \u001b[39m=\u001b[39m instance\u001b[39m.\u001b[39m\u001b[39m__dict__\u001b[39m[\u001b[39mself\u001b[39m\u001b[39m.\u001b[39mfget\u001b[39m.\u001b[39m\u001b[39m__name__\u001b[39m] \u001b[39m=\u001b[39m \u001b[39mself\u001b[39;49m\u001b[39m.\u001b[39;49mfget(instance)\n\u001b[0;32m     29\u001b[0m \u001b[39mreturn\u001b[39;00m res\n",
      "File \u001b[1;32mc:\\Users\\f0x-tr0t\\AppData\\Local\\Programs\\Python\\Python310\\lib\\site-packages\\dvc\\fs\\git.py:50\u001b[0m, in \u001b[0;36mGitFileSystem.path\u001b[1;34m(self)\u001b[0m\n\u001b[0;32m     48\u001b[0m \u001b[39m@cached_property\u001b[39m\n\u001b[0;32m     49\u001b[0m \u001b[39mdef\u001b[39;00m \u001b[39mpath\u001b[39m(\u001b[39mself\u001b[39m):\n\u001b[1;32m---> 50\u001b[0m     \u001b[39mreturn\u001b[39;00m \u001b[39mself\u001b[39;49m\u001b[39m.\u001b[39;49mfs\u001b[39m.\u001b[39mpath\n",
      "File \u001b[1;32mc:\\Users\\f0x-tr0t\\AppData\\Local\\Programs\\Python\\Python310\\lib\\site-packages\\funcy\\objects.py:50\u001b[0m, in \u001b[0;36mwrap_prop.<locals>.decorator.<locals>.WrapperProp.__get__\u001b[1;34m(self, instance, type)\u001b[0m\n\u001b[0;32m     47\u001b[0m     \u001b[39mreturn\u001b[39;00m \u001b[39mself\u001b[39m\n\u001b[0;32m     49\u001b[0m \u001b[39mwith\u001b[39;00m ctx:\n\u001b[1;32m---> 50\u001b[0m     \u001b[39mreturn\u001b[39;00m prop\u001b[39m.\u001b[39;49m\u001b[39m__get__\u001b[39;49m(instance, \u001b[39mtype\u001b[39;49m)\n",
      "File \u001b[1;32mc:\\Users\\f0x-tr0t\\AppData\\Local\\Programs\\Python\\Python310\\lib\\site-packages\\funcy\\objects.py:28\u001b[0m, in \u001b[0;36mcached_property.__get__\u001b[1;34m(self, instance, type)\u001b[0m\n\u001b[0;32m     26\u001b[0m \u001b[39mif\u001b[39;00m instance \u001b[39mis\u001b[39;00m \u001b[39mNone\u001b[39;00m:\n\u001b[0;32m     27\u001b[0m     \u001b[39mreturn\u001b[39;00m \u001b[39mself\u001b[39m\n\u001b[1;32m---> 28\u001b[0m res \u001b[39m=\u001b[39m instance\u001b[39m.\u001b[39m\u001b[39m__dict__\u001b[39m[\u001b[39mself\u001b[39m\u001b[39m.\u001b[39mfget\u001b[39m.\u001b[39m\u001b[39m__name__\u001b[39m] \u001b[39m=\u001b[39m \u001b[39mself\u001b[39;49m\u001b[39m.\u001b[39;49mfget(instance)\n\u001b[0;32m     29\u001b[0m \u001b[39mreturn\u001b[39;00m res\n",
      "File \u001b[1;32mc:\\Users\\f0x-tr0t\\AppData\\Local\\Programs\\Python\\Python310\\lib\\site-packages\\dvc\\fs\\git.py:46\u001b[0m, in \u001b[0;36mGitFileSystem.fs\u001b[1;34m(self)\u001b[0m\n\u001b[0;32m     41\u001b[0m \u001b[39m@wrap_prop\u001b[39m(threading\u001b[39m.\u001b[39mLock())\n\u001b[0;32m     42\u001b[0m \u001b[39m@cached_property\u001b[39m\n\u001b[0;32m     43\u001b[0m \u001b[39mdef\u001b[39;00m \u001b[39mfs\u001b[39m(\u001b[39mself\u001b[39m) \u001b[39m-\u001b[39m\u001b[39m>\u001b[39m \u001b[39m\"\u001b[39m\u001b[39mFsspecGitFileSystem\u001b[39m\u001b[39m\"\u001b[39m:\n\u001b[0;32m     44\u001b[0m     \u001b[39mfrom\u001b[39;00m \u001b[39mscmrepo\u001b[39;00m\u001b[39m.\u001b[39;00m\u001b[39mfs\u001b[39;00m \u001b[39mimport\u001b[39;00m GitFileSystem \u001b[39mas\u001b[39;00m FsspecGitFileSystem\n\u001b[1;32m---> 46\u001b[0m     \u001b[39mreturn\u001b[39;00m FsspecGitFileSystem(\u001b[39m*\u001b[39m\u001b[39m*\u001b[39m\u001b[39mself\u001b[39m\u001b[39m.\u001b[39mfs_args)\n",
      "File \u001b[1;32mc:\\Users\\f0x-tr0t\\AppData\\Local\\Programs\\Python\\Python310\\lib\\site-packages\\fsspec\\spec.py:76\u001b[0m, in \u001b[0;36m_Cached.__call__\u001b[1;34m(cls, *args, **kwargs)\u001b[0m\n\u001b[0;32m     74\u001b[0m     \u001b[39mreturn\u001b[39;00m \u001b[39mcls\u001b[39m\u001b[39m.\u001b[39m_cache[token]\n\u001b[0;32m     75\u001b[0m \u001b[39melse\u001b[39;00m:\n\u001b[1;32m---> 76\u001b[0m     obj \u001b[39m=\u001b[39m \u001b[39msuper\u001b[39m()\u001b[39m.\u001b[39m\u001b[39m__call__\u001b[39m(\u001b[39m*\u001b[39margs, \u001b[39m*\u001b[39m\u001b[39m*\u001b[39mkwargs)\n\u001b[0;32m     77\u001b[0m     \u001b[39m# Setting _fs_token here causes some static linters to complain.\u001b[39;00m\n\u001b[0;32m     78\u001b[0m     obj\u001b[39m.\u001b[39m_fs_token_ \u001b[39m=\u001b[39m token\n",
      "File \u001b[1;32mc:\\Users\\f0x-tr0t\\AppData\\Local\\Programs\\Python\\Python310\\lib\\site-packages\\scmrepo\\fs.py:174\u001b[0m, in \u001b[0;36mGitFileSystem.__init__\u001b[1;34m(self, path, rev, scm, trie, rev_resolver, **kwargs)\u001b[0m\n\u001b[0;32m    172\u001b[0m scm \u001b[39m=\u001b[39m scm \u001b[39mor\u001b[39;00m Git(path)\n\u001b[0;32m    173\u001b[0m resolver \u001b[39m=\u001b[39m rev_resolver \u001b[39mor\u001b[39;00m Git\u001b[39m.\u001b[39mresolve_rev\n\u001b[1;32m--> 174\u001b[0m resolved \u001b[39m=\u001b[39m resolver(scm, rev \u001b[39mor\u001b[39;49;00m \u001b[39m\"\u001b[39;49m\u001b[39mHEAD\u001b[39;49m\u001b[39m\"\u001b[39;49m)\n\u001b[0;32m    175\u001b[0m tree_obj \u001b[39m=\u001b[39m scm\u001b[39m.\u001b[39mpygit2\u001b[39m.\u001b[39mget_tree_obj(rev\u001b[39m=\u001b[39mresolved)\n\u001b[0;32m    176\u001b[0m trie \u001b[39m=\u001b[39m GitTrie(tree_obj, resolved)\n",
      "File \u001b[1;32mc:\\Users\\f0x-tr0t\\AppData\\Local\\Programs\\Python\\Python310\\lib\\site-packages\\dvc\\scm.py:159\u001b[0m, in \u001b[0;36mresolve_rev\u001b[1;34m(scm, rev)\u001b[0m\n\u001b[0;32m    156\u001b[0m \u001b[39mfrom\u001b[39;00m \u001b[39mdvc\u001b[39;00m\u001b[39m.\u001b[39;00m\u001b[39mrepo\u001b[39;00m\u001b[39m.\u001b[39;00m\u001b[39mexperiments\u001b[39;00m\u001b[39m.\u001b[39;00m\u001b[39mutils\u001b[39;00m \u001b[39mimport\u001b[39;00m fix_exp_head\n\u001b[0;32m    158\u001b[0m \u001b[39mtry\u001b[39;00m:\n\u001b[1;32m--> 159\u001b[0m     \u001b[39mreturn\u001b[39;00m scm\u001b[39m.\u001b[39;49mresolve_rev(fix_exp_head(scm, rev))\n\u001b[0;32m    160\u001b[0m \u001b[39mexcept\u001b[39;00m InternalRevError \u001b[39mas\u001b[39;00m exc:\n\u001b[0;32m    161\u001b[0m     \u001b[39m# `scm` will only resolve git branch and tag names,\u001b[39;00m\n\u001b[0;32m    162\u001b[0m     \u001b[39m# if rev is not a sha it may be an abbreviated experiment name\u001b[39;00m\n\u001b[0;32m    163\u001b[0m     \u001b[39mif\u001b[39;00m \u001b[39mnot\u001b[39;00m rev\u001b[39m.\u001b[39mstartswith(\u001b[39m\"\u001b[39m\u001b[39mrefs/\u001b[39m\u001b[39m\"\u001b[39m):\n",
      "File \u001b[1;32mc:\\Users\\f0x-tr0t\\AppData\\Local\\Programs\\Python\\Python310\\lib\\site-packages\\scmrepo\\git\\__init__.py:283\u001b[0m, in \u001b[0;36mGit._backend_func\u001b[1;34m(self, name, *args, **kwargs)\u001b[0m\n\u001b[0;32m    282\u001b[0m \u001b[39mdef\u001b[39;00m \u001b[39m_backend_func\u001b[39m(\u001b[39mself\u001b[39m, name, \u001b[39m*\u001b[39margs, \u001b[39m*\u001b[39m\u001b[39m*\u001b[39mkwargs):\n\u001b[1;32m--> 283\u001b[0m     \u001b[39mfor\u001b[39;00m key, backend \u001b[39min\u001b[39;00m \u001b[39mself\u001b[39m\u001b[39m.\u001b[39mbackends\u001b[39m.\u001b[39mitems():\n\u001b[0;32m    284\u001b[0m         \u001b[39mif\u001b[39;00m \u001b[39mself\u001b[39m\u001b[39m.\u001b[39m_last_backend \u001b[39mis\u001b[39;00m \u001b[39mnot\u001b[39;00m \u001b[39mNone\u001b[39;00m \u001b[39mand\u001b[39;00m key \u001b[39m!=\u001b[39m \u001b[39mself\u001b[39m\u001b[39m.\u001b[39m_last_backend:\n\u001b[0;32m    285\u001b[0m             \u001b[39mself\u001b[39m\u001b[39m.\u001b[39mbackends[\u001b[39mself\u001b[39m\u001b[39m.\u001b[39m_last_backend]\u001b[39m.\u001b[39mclose()\n",
      "File \u001b[1;32mc:\\Users\\f0x-tr0t\\AppData\\Local\\Programs\\Python\\Python310\\lib\\_collections_abc.py:906\u001b[0m, in \u001b[0;36mItemsView.__iter__\u001b[1;34m(self)\u001b[0m\n\u001b[0;32m    904\u001b[0m \u001b[39mdef\u001b[39;00m \u001b[39m__iter__\u001b[39m(\u001b[39mself\u001b[39m):\n\u001b[0;32m    905\u001b[0m     \u001b[39mfor\u001b[39;00m key \u001b[39min\u001b[39;00m \u001b[39mself\u001b[39m\u001b[39m.\u001b[39m_mapping:\n\u001b[1;32m--> 906\u001b[0m         \u001b[39myield\u001b[39;00m (key, \u001b[39mself\u001b[39;49m\u001b[39m.\u001b[39;49m_mapping[key])\n",
      "File \u001b[1;32mc:\\Users\\f0x-tr0t\\AppData\\Local\\Programs\\Python\\Python310\\lib\\site-packages\\scmrepo\\git\\__init__.py:49\u001b[0m, in \u001b[0;36mGitBackends.__getitem__\u001b[1;34m(self, key)\u001b[0m\n\u001b[0;32m     47\u001b[0m \u001b[39mif\u001b[39;00m \u001b[39mnot\u001b[39;00m initialized:\n\u001b[0;32m     48\u001b[0m     backend \u001b[39m=\u001b[39m \u001b[39mself\u001b[39m\u001b[39m.\u001b[39mbackends[key]\n\u001b[1;32m---> 49\u001b[0m     initialized \u001b[39m=\u001b[39m backend(\u001b[39m*\u001b[39m\u001b[39mself\u001b[39m\u001b[39m.\u001b[39margs, \u001b[39m*\u001b[39m\u001b[39m*\u001b[39m\u001b[39mself\u001b[39m\u001b[39m.\u001b[39mkwargs)\n\u001b[0;32m     50\u001b[0m     \u001b[39mself\u001b[39m\u001b[39m.\u001b[39minitialized[key] \u001b[39m=\u001b[39m initialized\n\u001b[0;32m     51\u001b[0m \u001b[39mreturn\u001b[39;00m initialized\n",
      "File \u001b[1;32mc:\\Users\\f0x-tr0t\\AppData\\Local\\Programs\\Python\\Python310\\lib\\site-packages\\scmrepo\\git\\backend\\pygit2.py:102\u001b[0m, in \u001b[0;36mPygit2Backend.__init__\u001b[1;34m(self, root_dir, search_parent_directories)\u001b[0m\n\u001b[0;32m     99\u001b[0m \u001b[39mif\u001b[39;00m \u001b[39mnot\u001b[39;00m path:\n\u001b[0;32m    100\u001b[0m     \u001b[39mraise\u001b[39;00m SCMError(\u001b[39mf\u001b[39m\u001b[39m\"\u001b[39m\u001b[39m{\u001b[39;00mroot_dir\u001b[39m}\u001b[39;00m\u001b[39m is not a git repository\u001b[39m\u001b[39m\"\u001b[39m)\n\u001b[1;32m--> 102\u001b[0m \u001b[39mself\u001b[39m\u001b[39m.\u001b[39mrepo \u001b[39m=\u001b[39m pygit2\u001b[39m.\u001b[39;49mRepository(path)\n\u001b[0;32m    104\u001b[0m \u001b[39mself\u001b[39m\u001b[39m.\u001b[39m_stashes: \u001b[39mdict\u001b[39m \u001b[39m=\u001b[39m {}\n",
      "File \u001b[1;32mc:\\Users\\f0x-tr0t\\AppData\\Local\\Programs\\Python\\Python310\\lib\\site-packages\\pygit2\\repository.py:1620\u001b[0m, in \u001b[0;36mRepository.__init__\u001b[1;34m(self, path, flags)\u001b[0m\n\u001b[0;32m   1618\u001b[0m     \u001b[39mif\u001b[39;00m \u001b[39mnot\u001b[39;00m \u001b[39misinstance\u001b[39m(path, \u001b[39mstr\u001b[39m):\n\u001b[0;32m   1619\u001b[0m         path \u001b[39m=\u001b[39m path\u001b[39m.\u001b[39mdecode(\u001b[39m'\u001b[39m\u001b[39mutf-8\u001b[39m\u001b[39m'\u001b[39m)\n\u001b[1;32m-> 1620\u001b[0m     path_backend \u001b[39m=\u001b[39m init_file_backend(path, flags)\n\u001b[0;32m   1621\u001b[0m     \u001b[39msuper\u001b[39m()\u001b[39m.\u001b[39m\u001b[39m__init__\u001b[39m(path_backend)\n\u001b[0;32m   1622\u001b[0m \u001b[39melse\u001b[39;00m:\n",
      "\u001b[1;31mGitError\u001b[0m: Repository not found at c:/Users/f0x-tr0t/Documents/education/10_Academy/VI/week_III/Rossmann-pharmaceuticals/.git/"
     ]
    }
   ],
   "source": [
    "# read data using dvc\n",
    "version = 'v1'\n",
    "\n",
    "# setup basic parameters\n",
    "pd.set_option('display.max_columns', 50)\n",
    "\n",
    "# data path using dvc api\n",
    "store_data_url = dvc.api.get_url(path = defs.store_path, \n",
    "                           repo = defs.repo, \n",
    "                           rev = version)\n",
    "\n",
    "# reading the csv file\n",
    "missing_values = [\"n/a\", \"na\", \"undefined\", '?', 'NA', 'undefined']\n",
    "store_df = pd.read_csv(store_data_url, na_values=missing_values)\n",
    "store_df"
   ]
  }
 ],
 "metadata": {
  "kernelspec": {
   "display_name": "Python 3.10.5 64-bit",
   "language": "python",
   "name": "python3"
  },
  "language_info": {
   "codemirror_mode": {
    "name": "ipython",
    "version": 3
   },
   "file_extension": ".py",
   "mimetype": "text/x-python",
   "name": "python",
   "nbconvert_exporter": "python",
   "pygments_lexer": "ipython3",
   "version": "3.10.5"
  },
  "orig_nbformat": 4,
  "vscode": {
   "interpreter": {
    "hash": "a265634967a27dd555e8346f2355ee703e655fd7f0a0d20c168527cd0a3d5707"
   }
  }
 },
 "nbformat": 4,
 "nbformat_minor": 2
}
