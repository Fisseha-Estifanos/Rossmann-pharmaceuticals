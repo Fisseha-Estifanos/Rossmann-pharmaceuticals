{
 "cells": [
  {
   "cell_type": "code",
   "execution_count": 1,
   "metadata": {},
   "outputs": [],
   "source": [
    "# import necessary packages\n",
    "import os\n",
    "import sys\n",
    "import dvc.api\n",
    "import pandas as pd\n",
    "import seaborn as sns\n",
    "import matplotlib.pyplot as plt\n",
    "import mlflow\n",
    "import warnings\n",
    "warnings.filterwarnings('ignore')"
   ]
  },
  {
   "cell_type": "code",
   "execution_count": 2,
   "metadata": {},
   "outputs": [
    {
     "name": "stdout",
     "output_type": "stream",
     "text": [
      "--> <Logger dataCleaner (WARNING)>\n"
     ]
    },
    {
     "name": "stderr",
     "output_type": "stream",
     "text": [
      "[Errno 2] No such file or directory: '/home/f0x-tr0t/Documents/10_acad/Week-III/Rossmann-pharmaceuticals/logs/cleaner_root.log'\n"
     ]
    },
    {
     "name": "stdout",
     "output_type": "stream",
     "text": [
      "[Errno 2] No such file or directory: '/home/f0x-tr0t/Documents/10_acad/Week-III/Rossmann-pharmaceuticals/logs/cleaner_root.log'\n",
      "Data cleaner in action\n",
      "--> <Logger dataVisualizer (WARNING)>\n"
     ]
    },
    {
     "name": "stderr",
     "output_type": "stream",
     "text": [
      "[Errno 2] No such file or directory: '/home/f0x-tr0t/Documents/10_acad/Week-III/Rossmann-pharmaceuticals/logs/visualizer_root.log'\n"
     ]
    },
    {
     "name": "stdout",
     "output_type": "stream",
     "text": [
      "[Errno 2] No such file or directory: '/home/f0x-tr0t/Documents/10_acad/Week-III/Rossmann-pharmaceuticals/logs/visualizer_root.log'\n",
      "Data visualizer in action\n"
     ]
    }
   ],
   "source": [
    "# set up paths and helper scripts\n",
    "sys.path.append('.')\n",
    "sys.path.insert(1, '../scripts/')\n",
    "\n",
    "import defaults as defs\n",
    "import dataCleaner as dc\n",
    "import dataVisualizer as dv\n",
    "\n",
    "# setup helper scripts\n",
    "cleaner = dc.dataCleaner('data preparation notebook')\n",
    "visualizer = dv.dataVisualizer('data preparation notebook')"
   ]
  },
  {
   "cell_type": "code",
   "execution_count": 3,
   "metadata": {},
   "outputs": [
    {
     "ename": "YAMLValidationError",
     "evalue": "'../../../../../../../dvc.yaml' validation failed in revision 'a291653': 2 errors",
     "output_type": "error",
     "traceback": [
      "\u001b[0;31m---------------------------------------------------------------------------\u001b[0m",
      "\u001b[0;31mMultipleInvalid\u001b[0m                           Traceback (most recent call last)",
      "File \u001b[0;32m~/.local/lib/python3.10/site-packages/dvc/utils/strictyaml.py:273\u001b[0m, in \u001b[0;36mvalidate\u001b[0;34m(data, schema, text, path, rev)\u001b[0m\n\u001b[1;32m    272\u001b[0m \u001b[39mtry\u001b[39;00m:\n\u001b[0;32m--> 273\u001b[0m     \u001b[39mreturn\u001b[39;00m schema(data)\n\u001b[1;32m    274\u001b[0m \u001b[39mexcept\u001b[39;00m MultipleInvalid \u001b[39mas\u001b[39;00m exc:\n",
      "File \u001b[0;32m~/.local/lib/python3.10/site-packages/voluptuous/schema_builder.py:272\u001b[0m, in \u001b[0;36mSchema.__call__\u001b[0;34m(self, data)\u001b[0m\n\u001b[1;32m    271\u001b[0m \u001b[39mtry\u001b[39;00m:\n\u001b[0;32m--> 272\u001b[0m     \u001b[39mreturn\u001b[39;00m \u001b[39mself\u001b[39;49m\u001b[39m.\u001b[39;49m_compiled([], data)\n\u001b[1;32m    273\u001b[0m \u001b[39mexcept\u001b[39;00m er\u001b[39m.\u001b[39mMultipleInvalid:\n",
      "File \u001b[0;32m~/.local/lib/python3.10/site-packages/voluptuous/schema_builder.py:595\u001b[0m, in \u001b[0;36mSchema._compile_dict.<locals>.validate_dict\u001b[0;34m(path, data)\u001b[0m\n\u001b[1;32m    594\u001b[0m out \u001b[39m=\u001b[39m data\u001b[39m.\u001b[39m\u001b[39m__class__\u001b[39m()\n\u001b[0;32m--> 595\u001b[0m \u001b[39mreturn\u001b[39;00m base_validate(path, iteritems(data), out)\n",
      "File \u001b[0;32m~/.local/lib/python3.10/site-packages/voluptuous/schema_builder.py:433\u001b[0m, in \u001b[0;36mSchema._compile_mapping.<locals>.validate_mapping\u001b[0;34m(path, iterable, out)\u001b[0m\n\u001b[1;32m    432\u001b[0m \u001b[39mif\u001b[39;00m errors:\n\u001b[0;32m--> 433\u001b[0m     \u001b[39mraise\u001b[39;00m er\u001b[39m.\u001b[39mMultipleInvalid(errors)\n\u001b[1;32m    435\u001b[0m \u001b[39mreturn\u001b[39;00m out\n",
      "\u001b[0;31mMultipleInvalid\u001b[0m: expected a dictionary for dictionary value @ data['stages']['preparation']",
      "\nThe above exception was the direct cause of the following exception:\n",
      "\u001b[0;31mYAMLValidationError\u001b[0m                       Traceback (most recent call last)",
      "\u001b[1;32m/home/f0x-tr0t/Documents/10_acad/Week-III/Rossmann-pharmaceuticals/notebooks/data-preparation.ipynb Cell 3\u001b[0m in \u001b[0;36m<cell line: 8>\u001b[0;34m()\u001b[0m\n\u001b[1;32m      <a href='vscode-notebook-cell:/home/f0x-tr0t/Documents/10_acad/Week-III/Rossmann-pharmaceuticals/notebooks/data-preparation.ipynb#W2sZmlsZQ%3D%3D?line=4'>5</a>\u001b[0m pd\u001b[39m.\u001b[39mset_option(\u001b[39m'\u001b[39m\u001b[39mdisplay.max_columns\u001b[39m\u001b[39m'\u001b[39m, \u001b[39m50\u001b[39m)\n\u001b[1;32m      <a href='vscode-notebook-cell:/home/f0x-tr0t/Documents/10_acad/Week-III/Rossmann-pharmaceuticals/notebooks/data-preparation.ipynb#W2sZmlsZQ%3D%3D?line=6'>7</a>\u001b[0m \u001b[39m# data path using dvc api\u001b[39;00m\n\u001b[0;32m----> <a href='vscode-notebook-cell:/home/f0x-tr0t/Documents/10_acad/Week-III/Rossmann-pharmaceuticals/notebooks/data-preparation.ipynb#W2sZmlsZQ%3D%3D?line=7'>8</a>\u001b[0m store_data_url \u001b[39m=\u001b[39m dvc\u001b[39m.\u001b[39;49mapi\u001b[39m.\u001b[39;49mget_url(path \u001b[39m=\u001b[39;49m defs\u001b[39m.\u001b[39;49mstore_local_path, \n\u001b[1;32m      <a href='vscode-notebook-cell:/home/f0x-tr0t/Documents/10_acad/Week-III/Rossmann-pharmaceuticals/notebooks/data-preparation.ipynb#W2sZmlsZQ%3D%3D?line=8'>9</a>\u001b[0m                            \u001b[39m#repo = defs.repo, \u001b[39;49;00m\n\u001b[1;32m     <a href='vscode-notebook-cell:/home/f0x-tr0t/Documents/10_acad/Week-III/Rossmann-pharmaceuticals/notebooks/data-preparation.ipynb#W2sZmlsZQ%3D%3D?line=9'>10</a>\u001b[0m                            rev \u001b[39m=\u001b[39;49m version)\n\u001b[1;32m     <a href='vscode-notebook-cell:/home/f0x-tr0t/Documents/10_acad/Week-III/Rossmann-pharmaceuticals/notebooks/data-preparation.ipynb#W2sZmlsZQ%3D%3D?line=11'>12</a>\u001b[0m \u001b[39m# reading the csv file\u001b[39;00m\n\u001b[1;32m     <a href='vscode-notebook-cell:/home/f0x-tr0t/Documents/10_acad/Week-III/Rossmann-pharmaceuticals/notebooks/data-preparation.ipynb#W2sZmlsZQ%3D%3D?line=12'>13</a>\u001b[0m missing_values \u001b[39m=\u001b[39m [\u001b[39m\"\u001b[39m\u001b[39mn/a\u001b[39m\u001b[39m\"\u001b[39m, \u001b[39m\"\u001b[39m\u001b[39mna\u001b[39m\u001b[39m\"\u001b[39m, \u001b[39m\"\u001b[39m\u001b[39mundefined\u001b[39m\u001b[39m\"\u001b[39m, \u001b[39m'\u001b[39m\u001b[39m?\u001b[39m\u001b[39m'\u001b[39m, \u001b[39m'\u001b[39m\u001b[39mNA\u001b[39m\u001b[39m'\u001b[39m, \u001b[39m'\u001b[39m\u001b[39mundefined\u001b[39m\u001b[39m'\u001b[39m]\n",
      "File \u001b[0;32m~/.local/lib/python3.10/site-packages/dvc/api.py:24\u001b[0m, in \u001b[0;36mget_url\u001b[0;34m(path, repo, rev, remote)\u001b[0m\n\u001b[1;32m     22\u001b[0m fs_path \u001b[39m=\u001b[39m _repo\u001b[39m.\u001b[39mdvcfs\u001b[39m.\u001b[39mfrom_os_path(path)\n\u001b[1;32m     23\u001b[0m \u001b[39mwith\u001b[39;00m reraise(\u001b[39mFileNotFoundError\u001b[39;00m, PathMissingError(path, repo)):\n\u001b[0;32m---> 24\u001b[0m     info \u001b[39m=\u001b[39m _repo\u001b[39m.\u001b[39;49mdvcfs\u001b[39m.\u001b[39;49minfo(fs_path)\n\u001b[1;32m     26\u001b[0m dvc_info \u001b[39m=\u001b[39m info\u001b[39m.\u001b[39mget(\u001b[39m\"\u001b[39m\u001b[39mdvc_info\u001b[39m\u001b[39m\"\u001b[39m)\n\u001b[1;32m     27\u001b[0m \u001b[39mif\u001b[39;00m \u001b[39mnot\u001b[39;00m dvc_info:\n",
      "File \u001b[0;32m~/.local/lib/python3.10/site-packages/dvc_objects/fs/base.py:340\u001b[0m, in \u001b[0;36mFileSystem.info\u001b[0;34m(self, path)\u001b[0m\n\u001b[1;32m    339\u001b[0m \u001b[39mdef\u001b[39;00m \u001b[39minfo\u001b[39m(\u001b[39mself\u001b[39m, path: AnyFSPath) \u001b[39m-\u001b[39m\u001b[39m>\u001b[39m \u001b[39m\"\u001b[39m\u001b[39mEntry\u001b[39m\u001b[39m\"\u001b[39m:\n\u001b[0;32m--> 340\u001b[0m     \u001b[39mreturn\u001b[39;00m \u001b[39mself\u001b[39;49m\u001b[39m.\u001b[39;49mfs\u001b[39m.\u001b[39;49minfo(path)\n",
      "File \u001b[0;32m~/.local/lib/python3.10/site-packages/dvc/fs/dvc.py:402\u001b[0m, in \u001b[0;36m_DvcFileSystem.info\u001b[0;34m(self, path, **kwargs)\u001b[0m\n\u001b[1;32m    400\u001b[0m \u001b[39mif\u001b[39;00m dvc_fs:\n\u001b[1;32m    401\u001b[0m     \u001b[39mtry\u001b[39;00m:\n\u001b[0;32m--> 402\u001b[0m         dvc_info \u001b[39m=\u001b[39m dvc_fs\u001b[39m.\u001b[39;49minfo(dvc_path)\n\u001b[1;32m    403\u001b[0m     \u001b[39mexcept\u001b[39;00m \u001b[39mFileNotFoundError\u001b[39;00m:\n\u001b[1;32m    404\u001b[0m         \u001b[39mpass\u001b[39;00m\n",
      "File \u001b[0;32m~/.local/lib/python3.10/site-packages/dvc_objects/fs/base.py:340\u001b[0m, in \u001b[0;36mFileSystem.info\u001b[0;34m(self, path)\u001b[0m\n\u001b[1;32m    339\u001b[0m \u001b[39mdef\u001b[39;00m \u001b[39minfo\u001b[39m(\u001b[39mself\u001b[39m, path: AnyFSPath) \u001b[39m-\u001b[39m\u001b[39m>\u001b[39m \u001b[39m\"\u001b[39m\u001b[39mEntry\u001b[39m\u001b[39m\"\u001b[39m:\n\u001b[0;32m--> 340\u001b[0m     \u001b[39mreturn\u001b[39;00m \u001b[39mself\u001b[39;49m\u001b[39m.\u001b[39;49mfs\u001b[39m.\u001b[39;49minfo(path)\n",
      "File \u001b[0;32m~/.local/lib/python3.10/site-packages/dvc/fs/data.py:125\u001b[0m, in \u001b[0;36m_DataFileSystem.info\u001b[0;34m(self, path, **kwargs)\u001b[0m\n\u001b[1;32m    122\u001b[0m key \u001b[39m=\u001b[39m \u001b[39mself\u001b[39m\u001b[39m.\u001b[39m_get_key(path)\n\u001b[1;32m    124\u001b[0m \u001b[39mtry\u001b[39;00m:\n\u001b[0;32m--> 125\u001b[0m     outs \u001b[39m=\u001b[39m \u001b[39mlist\u001b[39m(\u001b[39mself\u001b[39;49m\u001b[39m.\u001b[39;49mrepo\u001b[39m.\u001b[39;49mindex\u001b[39m.\u001b[39;49mtree\u001b[39m.\u001b[39miteritems(key))\n\u001b[1;32m    126\u001b[0m \u001b[39mexcept\u001b[39;00m \u001b[39mKeyError\u001b[39;00m \u001b[39mas\u001b[39;00m exc:\n\u001b[1;32m    127\u001b[0m     \u001b[39mraise\u001b[39;00m \u001b[39mFileNotFoundError\u001b[39;00m \u001b[39mfrom\u001b[39;00m \u001b[39mexc\u001b[39;00m\n",
      "File \u001b[0;32m~/.local/lib/python3.10/site-packages/funcy/objects.py:28\u001b[0m, in \u001b[0;36mcached_property.__get__\u001b[0;34m(self, instance, type)\u001b[0m\n\u001b[1;32m     26\u001b[0m \u001b[39mif\u001b[39;00m instance \u001b[39mis\u001b[39;00m \u001b[39mNone\u001b[39;00m:\n\u001b[1;32m     27\u001b[0m     \u001b[39mreturn\u001b[39;00m \u001b[39mself\u001b[39m\n\u001b[0;32m---> 28\u001b[0m res \u001b[39m=\u001b[39m instance\u001b[39m.\u001b[39m\u001b[39m__dict__\u001b[39m[\u001b[39mself\u001b[39m\u001b[39m.\u001b[39mfget\u001b[39m.\u001b[39m\u001b[39m__name__\u001b[39m] \u001b[39m=\u001b[39m \u001b[39mself\u001b[39;49m\u001b[39m.\u001b[39;49mfget(instance)\n\u001b[1;32m     29\u001b[0m \u001b[39mreturn\u001b[39;00m res\n",
      "File \u001b[0;32m~/.local/lib/python3.10/site-packages/dvc/repo/index.py:177\u001b[0m, in \u001b[0;36mIndex.tree\u001b[0;34m(self)\u001b[0m\n\u001b[1;32m    173\u001b[0m \u001b[39mfrom\u001b[39;00m \u001b[39mdvc_data\u001b[39;00m\u001b[39m.\u001b[39;00m\u001b[39mtree\u001b[39;00m \u001b[39mimport\u001b[39;00m Tree\n\u001b[1;32m    175\u001b[0m tree \u001b[39m=\u001b[39m Tree(\u001b[39mNone\u001b[39;00m, \u001b[39mNone\u001b[39;00m, \u001b[39mNone\u001b[39;00m)\n\u001b[0;32m--> 177\u001b[0m \u001b[39mfor\u001b[39;00m out \u001b[39min\u001b[39;00m \u001b[39mself\u001b[39m\u001b[39m.\u001b[39mouts:\n\u001b[1;32m    178\u001b[0m     \u001b[39mif\u001b[39;00m \u001b[39mnot\u001b[39;00m out\u001b[39m.\u001b[39muse_cache:\n\u001b[1;32m    179\u001b[0m         \u001b[39mcontinue\u001b[39;00m\n",
      "File \u001b[0;32m~/.local/lib/python3.10/site-packages/dvc/repo/index.py:118\u001b[0m, in \u001b[0;36mIndex.outs\u001b[0;34m(self)\u001b[0m\n\u001b[1;32m    116\u001b[0m \u001b[39m@property\u001b[39m\n\u001b[1;32m    117\u001b[0m \u001b[39mdef\u001b[39;00m \u001b[39mouts\u001b[39m(\u001b[39mself\u001b[39m) \u001b[39m-\u001b[39m\u001b[39m>\u001b[39m Iterator[\u001b[39m\"\u001b[39m\u001b[39mOutput\u001b[39m\u001b[39m\"\u001b[39m]:\n\u001b[0;32m--> 118\u001b[0m     \u001b[39mfor\u001b[39;00m stage \u001b[39min\u001b[39;00m \u001b[39mself\u001b[39m:\n\u001b[1;32m    119\u001b[0m         \u001b[39myield from\u001b[39;00m stage\u001b[39m.\u001b[39mouts\n",
      "File \u001b[0;32m~/.local/lib/python3.10/site-packages/dvc/repo/index.py:92\u001b[0m, in \u001b[0;36mIndex.__iter__\u001b[0;34m(self)\u001b[0m\n\u001b[1;32m     91\u001b[0m \u001b[39mdef\u001b[39;00m \u001b[39m__iter__\u001b[39m(\u001b[39mself\u001b[39m) \u001b[39m-\u001b[39m\u001b[39m>\u001b[39m Iterator[\u001b[39m\"\u001b[39m\u001b[39mStage\u001b[39m\u001b[39m\"\u001b[39m]:\n\u001b[0;32m---> 92\u001b[0m     \u001b[39myield from\u001b[39;00m \u001b[39mself\u001b[39;49m\u001b[39m.\u001b[39;49mstages\n",
      "File \u001b[0;32m~/.local/lib/python3.10/site-packages/funcy/objects.py:28\u001b[0m, in \u001b[0;36mcached_property.__get__\u001b[0;34m(self, instance, type)\u001b[0m\n\u001b[1;32m     26\u001b[0m \u001b[39mif\u001b[39;00m instance \u001b[39mis\u001b[39;00m \u001b[39mNone\u001b[39;00m:\n\u001b[1;32m     27\u001b[0m     \u001b[39mreturn\u001b[39;00m \u001b[39mself\u001b[39m\n\u001b[0;32m---> 28\u001b[0m res \u001b[39m=\u001b[39m instance\u001b[39m.\u001b[39m\u001b[39m__dict__\u001b[39m[\u001b[39mself\u001b[39m\u001b[39m.\u001b[39mfget\u001b[39m.\u001b[39m\u001b[39m__name__\u001b[39m] \u001b[39m=\u001b[39m \u001b[39mself\u001b[39;49m\u001b[39m.\u001b[39;49mfget(instance)\n\u001b[1;32m     29\u001b[0m \u001b[39mreturn\u001b[39;00m res\n",
      "File \u001b[0;32m~/.local/lib/python3.10/site-packages/dvc/repo/index.py:74\u001b[0m, in \u001b[0;36mIndex.stages\u001b[0;34m(self)\u001b[0m\n\u001b[1;32m     68\u001b[0m \u001b[39m@cached_property\u001b[39m\n\u001b[1;32m     69\u001b[0m \u001b[39mdef\u001b[39;00m \u001b[39mstages\u001b[39m(\u001b[39mself\u001b[39m) \u001b[39m-\u001b[39m\u001b[39m>\u001b[39m List[\u001b[39m\"\u001b[39m\u001b[39mStage\u001b[39m\u001b[39m\"\u001b[39m]:  \u001b[39m# pylint: disable=method-hidden\u001b[39;00m\n\u001b[1;32m     70\u001b[0m     \u001b[39m# note that ideally we should be keeping this in a set as it is unique,\u001b[39;00m\n\u001b[1;32m     71\u001b[0m     \u001b[39m# hashable and has no concept of orderliness on its own. But we depend\u001b[39;00m\n\u001b[1;32m     72\u001b[0m     \u001b[39m# on this to be somewhat ordered for status/metrics/plots, etc.\u001b[39;00m\n\u001b[1;32m     73\u001b[0m     onerror \u001b[39m=\u001b[39m \u001b[39mself\u001b[39m\u001b[39m.\u001b[39mrepo\u001b[39m.\u001b[39mstage_collection_error_handler\n\u001b[0;32m---> 74\u001b[0m     \u001b[39mreturn\u001b[39;00m \u001b[39mself\u001b[39;49m\u001b[39m.\u001b[39;49mstage_collector\u001b[39m.\u001b[39;49mcollect_repo(onerror\u001b[39m=\u001b[39;49monerror)\n",
      "File \u001b[0;32m~/.local/lib/python3.10/site-packages/dvc/repo/stage.py:516\u001b[0m, in \u001b[0;36mStageLoad.collect_repo\u001b[0;34m(self, onerror)\u001b[0m\n\u001b[1;32m    515\u001b[0m \u001b[39mdef\u001b[39;00m \u001b[39mcollect_repo\u001b[39m(\u001b[39mself\u001b[39m, onerror: Callable[[\u001b[39mstr\u001b[39m, \u001b[39mException\u001b[39;00m], \u001b[39mNone\u001b[39;00m] \u001b[39m=\u001b[39m \u001b[39mNone\u001b[39;00m):\n\u001b[0;32m--> 516\u001b[0m     \u001b[39mreturn\u001b[39;00m \u001b[39mlist\u001b[39;49m(\u001b[39mself\u001b[39;49m\u001b[39m.\u001b[39;49m_collect_repo(onerror))\n",
      "File \u001b[0;32m~/.local/lib/python3.10/site-packages/dvc/repo/stage.py:499\u001b[0m, in \u001b[0;36mStageLoad._collect_repo\u001b[0;34m(self, onerror)\u001b[0m\n\u001b[1;32m    497\u001b[0m file_path \u001b[39m=\u001b[39m \u001b[39mself\u001b[39m\u001b[39m.\u001b[39mfs\u001b[39m.\u001b[39mpath\u001b[39m.\u001b[39mjoin(root, file)\n\u001b[1;32m    498\u001b[0m \u001b[39mtry\u001b[39;00m:\n\u001b[0;32m--> 499\u001b[0m     new_stages \u001b[39m=\u001b[39m \u001b[39mself\u001b[39;49m\u001b[39m.\u001b[39;49mload_file(file_path)\n\u001b[1;32m    500\u001b[0m \u001b[39mexcept\u001b[39;00m DvcException \u001b[39mas\u001b[39;00m exc:\n\u001b[1;32m    501\u001b[0m     \u001b[39mif\u001b[39;00m onerror:\n",
      "File \u001b[0;32m~/.local/lib/python3.10/site-packages/dvc/repo/stage.py:319\u001b[0m, in \u001b[0;36mStageLoad.load_file\u001b[0;34m(self, path)\u001b[0m\n\u001b[1;32m    317\u001b[0m \u001b[39mdef\u001b[39;00m \u001b[39mload_file\u001b[39m(\u001b[39mself\u001b[39m, path: \u001b[39mstr\u001b[39m \u001b[39m=\u001b[39m \u001b[39mNone\u001b[39;00m) \u001b[39m-\u001b[39m\u001b[39m>\u001b[39m StageList:\n\u001b[1;32m    318\u001b[0m     \u001b[39m\"\"\"Load all of the stages from a file.\"\"\"\u001b[39;00m\n\u001b[0;32m--> 319\u001b[0m     \u001b[39mreturn\u001b[39;00m \u001b[39mself\u001b[39;49m\u001b[39m.\u001b[39;49mload_all(path)\n",
      "File \u001b[0;32m~/.local/lib/python3.10/site-packages/dvc/repo/stage.py:291\u001b[0m, in \u001b[0;36mStageLoad.load_all\u001b[0;34m(self, path, name, accept_group, glob)\u001b[0m\n\u001b[1;32m    289\u001b[0m dvcfile \u001b[39m=\u001b[39m Dvcfile(\u001b[39mself\u001b[39m\u001b[39m.\u001b[39mrepo, path)\n\u001b[1;32m    290\u001b[0m \u001b[39m# `dvcfile.stages` is not cached\u001b[39;00m\n\u001b[0;32m--> 291\u001b[0m stages \u001b[39m=\u001b[39m dvcfile\u001b[39m.\u001b[39;49mstages  \u001b[39m# type: ignore\u001b[39;00m\n\u001b[1;32m    293\u001b[0m \u001b[39mif\u001b[39;00m \u001b[39misinstance\u001b[39m(stages, SingleStageLoader):\n\u001b[1;32m    294\u001b[0m     stage \u001b[39m=\u001b[39m stages[name]\n",
      "File \u001b[0;32m~/.local/lib/python3.10/site-packages/dvc/dvcfile.py:281\u001b[0m, in \u001b[0;36mPipelineFile.stages\u001b[0;34m(self)\u001b[0m\n\u001b[1;32m    279\u001b[0m \u001b[39m@property\u001b[39m\n\u001b[1;32m    280\u001b[0m \u001b[39mdef\u001b[39;00m \u001b[39mstages\u001b[39m(\u001b[39mself\u001b[39m):\n\u001b[0;32m--> 281\u001b[0m     data, _ \u001b[39m=\u001b[39m \u001b[39mself\u001b[39;49m\u001b[39m.\u001b[39;49m_load()\n\u001b[1;32m    282\u001b[0m     lockfile_data \u001b[39m=\u001b[39m \u001b[39mself\u001b[39m\u001b[39m.\u001b[39m_lockfile\u001b[39m.\u001b[39mload()\n\u001b[1;32m    283\u001b[0m     \u001b[39mreturn\u001b[39;00m \u001b[39mself\u001b[39m\u001b[39m.\u001b[39mLOADER(\u001b[39mself\u001b[39m, data, lockfile_data)\n",
      "File \u001b[0;32m~/.local/lib/python3.10/site-packages/dvc/dvcfile.py:150\u001b[0m, in \u001b[0;36mFileMixin._load\u001b[0;34m(self, **kwargs)\u001b[0m\n\u001b[1;32m    147\u001b[0m     \u001b[39mraise\u001b[39;00m StageFileIsNotDvcFileError(\u001b[39mself\u001b[39m\u001b[39m.\u001b[39mpath)\n\u001b[1;32m    149\u001b[0m \u001b[39mself\u001b[39m\u001b[39m.\u001b[39m_check_gitignored()\n\u001b[0;32m--> 150\u001b[0m \u001b[39mreturn\u001b[39;00m \u001b[39mself\u001b[39;49m\u001b[39m.\u001b[39;49m_load_yaml(\u001b[39m*\u001b[39;49m\u001b[39m*\u001b[39;49mkwargs)\n",
      "File \u001b[0;32m~/.local/lib/python3.10/site-packages/dvc/dvcfile.py:161\u001b[0m, in \u001b[0;36mFileMixin._load_yaml\u001b[0;34m(self, **kwargs)\u001b[0m\n\u001b[1;32m    158\u001b[0m \u001b[39mdef\u001b[39;00m \u001b[39m_load_yaml\u001b[39m(\u001b[39mself\u001b[39m, \u001b[39m*\u001b[39m\u001b[39m*\u001b[39mkwargs: Any) \u001b[39m-\u001b[39m\u001b[39m>\u001b[39m Tuple[Any, \u001b[39mstr\u001b[39m]:\n\u001b[1;32m    159\u001b[0m     \u001b[39mfrom\u001b[39;00m \u001b[39mdvc\u001b[39;00m\u001b[39m.\u001b[39;00m\u001b[39mutils\u001b[39;00m \u001b[39mimport\u001b[39;00m strictyaml\n\u001b[0;32m--> 161\u001b[0m     \u001b[39mreturn\u001b[39;00m strictyaml\u001b[39m.\u001b[39;49mload(\n\u001b[1;32m    162\u001b[0m         \u001b[39mself\u001b[39;49m\u001b[39m.\u001b[39;49mpath,\n\u001b[1;32m    163\u001b[0m         \u001b[39mself\u001b[39;49m\u001b[39m.\u001b[39;49mSCHEMA,  \u001b[39m# type: ignore[arg-type]\u001b[39;49;00m\n\u001b[1;32m    164\u001b[0m         \u001b[39mself\u001b[39;49m\u001b[39m.\u001b[39;49mrepo\u001b[39m.\u001b[39;49mfs,\n\u001b[1;32m    165\u001b[0m         \u001b[39m*\u001b[39;49m\u001b[39m*\u001b[39;49mkwargs,\n\u001b[1;32m    166\u001b[0m     )\n",
      "File \u001b[0;32m~/.local/lib/python3.10/site-packages/dvc/utils/strictyaml.py:301\u001b[0m, in \u001b[0;36mload\u001b[0;34m(path, schema, fs, encoding, round_trip)\u001b[0m\n\u001b[1;32m    296\u001b[0m     \u001b[39mraise\u001b[39;00m YAMLSyntaxError(path, text, exc, rev\u001b[39m=\u001b[39mrev) \u001b[39mfrom\u001b[39;00m \u001b[39mcause\u001b[39;00m\n\u001b[1;32m    298\u001b[0m \u001b[39mif\u001b[39;00m schema:\n\u001b[1;32m    299\u001b[0m     \u001b[39m# not returning validated data, as it may remove\u001b[39;00m\n\u001b[1;32m    300\u001b[0m     \u001b[39m# details from CommentedMap that we get from roundtrip parser\u001b[39;00m\n\u001b[0;32m--> 301\u001b[0m     validate(data, schema, text\u001b[39m=\u001b[39;49mtext, path\u001b[39m=\u001b[39;49mpath, rev\u001b[39m=\u001b[39;49mrev)\n\u001b[1;32m    302\u001b[0m \u001b[39mreturn\u001b[39;00m data, text\n",
      "File \u001b[0;32m~/.local/lib/python3.10/site-packages/dvc/utils/strictyaml.py:275\u001b[0m, in \u001b[0;36mvalidate\u001b[0;34m(data, schema, text, path, rev)\u001b[0m\n\u001b[1;32m    273\u001b[0m     \u001b[39mreturn\u001b[39;00m schema(data)\n\u001b[1;32m    274\u001b[0m \u001b[39mexcept\u001b[39;00m MultipleInvalid \u001b[39mas\u001b[39;00m exc:\n\u001b[0;32m--> 275\u001b[0m     \u001b[39mraise\u001b[39;00m YAMLValidationError(exc, path, text, rev\u001b[39m=\u001b[39mrev) \u001b[39mfrom\u001b[39;00m \u001b[39mexc\u001b[39;00m\n",
      "\u001b[0;31mYAMLValidationError\u001b[0m: '../../../../../../../dvc.yaml' validation failed in revision 'a291653': 2 errors"
     ]
    }
   ],
   "source": [
    "# read data using dvc\n",
    "version = 'v1'\n",
    "\n",
    "# setup basic parameters\n",
    "pd.set_option('display.max_columns', 50)\n",
    "\n",
    "# data path using dvc api\n",
    "store_data_url = dvc.api.get_url(path = defs.store_local_path, \n",
    "                           #repo = defs.repo, \n",
    "                           rev = version)\n",
    "\n",
    "# reading the csv file\n",
    "missing_values = [\"n/a\", \"na\", \"undefined\", '?', 'NA', 'undefined']\n",
    "store_df = pd.read_csv(store_data_url, na_values=missing_values)\n",
    "store_df"
   ]
  }
 ],
 "metadata": {
  "kernelspec": {
   "display_name": "Python 3.10.4 64-bit",
   "language": "python",
   "name": "python3"
  },
  "language_info": {
   "codemirror_mode": {
    "name": "ipython",
    "version": 3
   },
   "file_extension": ".py",
   "mimetype": "text/x-python",
   "name": "python",
   "nbconvert_exporter": "python",
   "pygments_lexer": "ipython3",
   "version": "3.10.4"
  },
  "orig_nbformat": 4,
  "vscode": {
   "interpreter": {
    "hash": "916dbcbb3f70747c44a77c7bcd40155683ae19c65e1c03b4aa3499c5328201f1"
   }
  }
 },
 "nbformat": 4,
 "nbformat_minor": 2
}
